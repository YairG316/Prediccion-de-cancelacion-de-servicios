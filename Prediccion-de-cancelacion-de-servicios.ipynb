{
  "nbformat": 4,
  "nbformat_minor": 0,
  "metadata": {
    "colab": {
      "provenance": [],
      "toc_visible": true,
      "authorship_tag": "ABX9TyMPH5XYlYYsi13GiDlwtqP/"
    },
    "kernelspec": {
      "name": "python3",
      "display_name": "Python 3"
    },
    "language_info": {
      "name": "python"
    }
  },
  "cells": [
    {
      "cell_type": "code",
      "execution_count": 1,
      "metadata": {
        "colab": {
          "base_uri": "https://localhost:8080/"
        },
        "id": "YhtjPXtbACP4",
        "outputId": "d680edc5-e54f-4124-de80-a2b7e287d641"
      },
      "outputs": [
        {
          "output_type": "stream",
          "name": "stdout",
          "text": [
            "Collecting pyspark\n",
            "  Downloading pyspark-3.5.0.tar.gz (316.9 MB)\n",
            "\u001b[2K     \u001b[90m━━━━━━━━━━━━━━━━━━━━━━━━━━━━━━━━━━━━━━━━\u001b[0m \u001b[32m316.9/316.9 MB\u001b[0m \u001b[31m2.0 MB/s\u001b[0m eta \u001b[36m0:00:00\u001b[0m\n",
            "\u001b[?25h  Preparing metadata (setup.py) ... \u001b[?25l\u001b[?25hdone\n",
            "Requirement already satisfied: py4j==0.10.9.7 in /usr/local/lib/python3.10/dist-packages (from pyspark) (0.10.9.7)\n",
            "Building wheels for collected packages: pyspark\n",
            "  Building wheel for pyspark (setup.py) ... \u001b[?25l\u001b[?25hdone\n",
            "  Created wheel for pyspark: filename=pyspark-3.5.0-py2.py3-none-any.whl size=317425345 sha256=94e7b353bdf19d764395debf3da32f81b7c25347350b089faeaff955ee6e7f6a\n",
            "  Stored in directory: /root/.cache/pip/wheels/41/4e/10/c2cf2467f71c678cfc8a6b9ac9241e5e44a01940da8fbb17fc\n",
            "Successfully built pyspark\n",
            "Installing collected packages: pyspark\n",
            "Successfully installed pyspark-3.5.0\n"
          ]
        }
      ],
      "source": [
        "!pip install pyspark"
      ]
    },
    {
      "cell_type": "markdown",
      "source": [
        "#Se importan librerias"
      ],
      "metadata": {
        "id": "RHkB3H36Agtx"
      }
    },
    {
      "cell_type": "code",
      "source": [
        "import pandas as pd\n",
        "import numpy as np\n",
        "\n",
        "import seaborn as sns\n",
        "import matplotlib.pyplot as plt"
      ],
      "metadata": {
        "id": "b7EH7HOsAInO"
      },
      "execution_count": 2,
      "outputs": []
    },
    {
      "cell_type": "code",
      "source": [
        "import warnings\n",
        "\n",
        "# Desactivar la advertencia FutureWarning\n",
        "warnings.filterwarnings(\"ignore\", category=FutureWarning)"
      ],
      "metadata": {
        "id": "j7kImmLvr3Yc"
      },
      "execution_count": 3,
      "outputs": []
    },
    {
      "cell_type": "markdown",
      "source": [
        "#Se crea la sesion Spark"
      ],
      "metadata": {
        "id": "M8SMvz_lAeuR"
      }
    },
    {
      "cell_type": "code",
      "source": [
        "from pyspark.sql import SparkSession, SQLContext"
      ],
      "metadata": {
        "id": "Y7A-zD0-AovI"
      },
      "execution_count": 4,
      "outputs": []
    },
    {
      "cell_type": "code",
      "source": [
        "spark = SparkSession.builder.master(\"local[1]\").appName(\"Proyecto6\").getOrCreate()"
      ],
      "metadata": {
        "id": "aCAgkHjdAX06"
      },
      "execution_count": 5,
      "outputs": []
    },
    {
      "cell_type": "code",
      "source": [
        "spark"
      ],
      "metadata": {
        "colab": {
          "base_uri": "https://localhost:8080/",
          "height": 219
        },
        "id": "CAnBEW80ApDi",
        "outputId": "71e47438-325a-40f3-b568-3db82fad601b"
      },
      "execution_count": 6,
      "outputs": [
        {
          "output_type": "execute_result",
          "data": {
            "text/plain": [
              "<pyspark.sql.session.SparkSession at 0x781225653d00>"
            ],
            "text/html": [
              "\n",
              "            <div>\n",
              "                <p><b>SparkSession - in-memory</b></p>\n",
              "                \n",
              "        <div>\n",
              "            <p><b>SparkContext</b></p>\n",
              "\n",
              "            <p><a href=\"http://1fa2b2ac4d77:4040\">Spark UI</a></p>\n",
              "\n",
              "            <dl>\n",
              "              <dt>Version</dt>\n",
              "                <dd><code>v3.5.0</code></dd>\n",
              "              <dt>Master</dt>\n",
              "                <dd><code>local[1]</code></dd>\n",
              "              <dt>AppName</dt>\n",
              "                <dd><code>Proyecto6</code></dd>\n",
              "            </dl>\n",
              "        </div>\n",
              "        \n",
              "            </div>\n",
              "        "
            ]
          },
          "metadata": {},
          "execution_count": 6
        }
      ]
    },
    {
      "cell_type": "code",
      "source": [
        "sc = spark.sparkContext\n",
        "sc"
      ],
      "metadata": {
        "colab": {
          "base_uri": "https://localhost:8080/",
          "height": 196
        },
        "id": "24i0I_nYArxu",
        "outputId": "32809b79-657c-4fd9-97a3-046200ff3556"
      },
      "execution_count": 7,
      "outputs": [
        {
          "output_type": "execute_result",
          "data": {
            "text/plain": [
              "<SparkContext master=local[1] appName=Proyecto6>"
            ],
            "text/html": [
              "\n",
              "        <div>\n",
              "            <p><b>SparkContext</b></p>\n",
              "\n",
              "            <p><a href=\"http://1fa2b2ac4d77:4040\">Spark UI</a></p>\n",
              "\n",
              "            <dl>\n",
              "              <dt>Version</dt>\n",
              "                <dd><code>v3.5.0</code></dd>\n",
              "              <dt>Master</dt>\n",
              "                <dd><code>local[1]</code></dd>\n",
              "              <dt>AppName</dt>\n",
              "                <dd><code>Proyecto6</code></dd>\n",
              "            </dl>\n",
              "        </div>\n",
              "        "
            ]
          },
          "metadata": {},
          "execution_count": 7
        }
      ]
    },
    {
      "cell_type": "markdown",
      "source": [
        "#Exploración del DataFrame"
      ],
      "metadata": {
        "id": "QBoKvBawl2_g"
      }
    },
    {
      "cell_type": "code",
      "source": [
        "pyspark_df = spark.read.csv(path=\"/content/WA_Fn-UseC_-Telco-Customer-Churn.csv\", inferSchema= True, header = True)"
      ],
      "metadata": {
        "id": "OduFtiqVD1EL"
      },
      "execution_count": 8,
      "outputs": []
    },
    {
      "cell_type": "code",
      "source": [
        "pyspark_df.show(5)"
      ],
      "metadata": {
        "colab": {
          "base_uri": "https://localhost:8080/"
        },
        "id": "avDm9srUEUPR",
        "outputId": "381f7934-db52-402e-ead2-73cd7944a59b"
      },
      "execution_count": null,
      "outputs": [
        {
          "output_type": "stream",
          "name": "stdout",
          "text": [
            "+----------+------+-------------+-------+----------+------+------------+----------------+---------------+--------------+------------+----------------+-----------+-----------+---------------+--------------+----------------+--------------------+--------------+------------+-----+\n",
            "|customerID|gender|SeniorCitizen|Partner|Dependents|tenure|PhoneService|   MultipleLines|InternetService|OnlineSecurity|OnlineBackup|DeviceProtection|TechSupport|StreamingTV|StreamingMovies|      Contract|PaperlessBilling|       PaymentMethod|MonthlyCharges|TotalCharges|Churn|\n",
            "+----------+------+-------------+-------+----------+------+------------+----------------+---------------+--------------+------------+----------------+-----------+-----------+---------------+--------------+----------------+--------------------+--------------+------------+-----+\n",
            "|7590-VHVEG|Female|            0|    Yes|        No|     1|          No|No phone service|            DSL|            No|         Yes|              No|         No|         No|             No|Month-to-month|             Yes|    Electronic check|         29.85|       29.85|   No|\n",
            "|5575-GNVDE|  Male|            0|     No|        No|    34|         Yes|              No|            DSL|           Yes|          No|             Yes|         No|         No|             No|      One year|              No|        Mailed check|         56.95|      1889.5|   No|\n",
            "|3668-QPYBK|  Male|            0|     No|        No|     2|         Yes|              No|            DSL|           Yes|         Yes|              No|         No|         No|             No|Month-to-month|             Yes|        Mailed check|         53.85|      108.15|  Yes|\n",
            "|7795-CFOCW|  Male|            0|     No|        No|    45|          No|No phone service|            DSL|           Yes|          No|             Yes|        Yes|         No|             No|      One year|              No|Bank transfer (au...|          42.3|     1840.75|   No|\n",
            "|9237-HQITU|Female|            0|     No|        No|     2|         Yes|              No|    Fiber optic|            No|          No|              No|         No|         No|             No|Month-to-month|             Yes|    Electronic check|          70.7|      151.65|  Yes|\n",
            "+----------+------+-------------+-------+----------+------+------------+----------------+---------------+--------------+------------+----------------+-----------+-----------+---------------+--------------+----------------+--------------------+--------------+------------+-----+\n",
            "only showing top 5 rows\n",
            "\n"
          ]
        }
      ]
    },
    {
      "cell_type": "code",
      "source": [
        "pyspark_df.printSchema()"
      ],
      "metadata": {
        "colab": {
          "base_uri": "https://localhost:8080/"
        },
        "id": "YCm8G4vrEXuJ",
        "outputId": "80a19456-663c-4c00-bd7b-43f48b649d58"
      },
      "execution_count": null,
      "outputs": [
        {
          "output_type": "stream",
          "name": "stdout",
          "text": [
            "root\n",
            " |-- customerID: string (nullable = true)\n",
            " |-- gender: string (nullable = true)\n",
            " |-- SeniorCitizen: integer (nullable = true)\n",
            " |-- Partner: string (nullable = true)\n",
            " |-- Dependents: string (nullable = true)\n",
            " |-- tenure: integer (nullable = true)\n",
            " |-- PhoneService: string (nullable = true)\n",
            " |-- MultipleLines: string (nullable = true)\n",
            " |-- InternetService: string (nullable = true)\n",
            " |-- OnlineSecurity: string (nullable = true)\n",
            " |-- OnlineBackup: string (nullable = true)\n",
            " |-- DeviceProtection: string (nullable = true)\n",
            " |-- TechSupport: string (nullable = true)\n",
            " |-- StreamingTV: string (nullable = true)\n",
            " |-- StreamingMovies: string (nullable = true)\n",
            " |-- Contract: string (nullable = true)\n",
            " |-- PaperlessBilling: string (nullable = true)\n",
            " |-- PaymentMethod: string (nullable = true)\n",
            " |-- MonthlyCharges: double (nullable = true)\n",
            " |-- TotalCharges: string (nullable = true)\n",
            " |-- Churn: string (nullable = true)\n",
            "\n"
          ]
        }
      ]
    },
    {
      "cell_type": "code",
      "source": [
        "pyspark_df.describe().show()"
      ],
      "metadata": {
        "colab": {
          "base_uri": "https://localhost:8080/"
        },
        "id": "NbozHB3TEvuz",
        "outputId": "18bc4078-003c-4197-b03a-7551fbe29607"
      },
      "execution_count": null,
      "outputs": [
        {
          "output_type": "stream",
          "name": "stdout",
          "text": [
            "+-------+----------+------+------------------+-------+----------+------------------+------------+-------------+---------------+--------------+------------+----------------+-----------+-----------+---------------+--------------+----------------+--------------------+------------------+------------------+-----+-------------------+\n",
            "|summary|customerID|gender|     SeniorCitizen|Partner|Dependents|            tenure|PhoneService|MultipleLines|InternetService|OnlineSecurity|OnlineBackup|DeviceProtection|TechSupport|StreamingTV|StreamingMovies|      Contract|PaperlessBilling|       PaymentMethod|    MonthlyCharges|      TotalCharges|Churn|Clean_Total_Charges|\n",
            "+-------+----------+------+------------------+-------+----------+------------------+------------+-------------+---------------+--------------+------------+----------------+-----------+-----------+---------------+--------------+----------------+--------------------+------------------+------------------+-----+-------------------+\n",
            "|  count|      7043|  7043|              7043|   7043|      7043|              7043|        7043|         7043|           7043|          7043|        7043|            7043|       7043|       7043|           7043|          7043|            7043|                7043|              7043|              7043| 7043|               7043|\n",
            "|   mean|      NULL|  NULL|0.1621468124378816|   NULL|      NULL| 32.37114865824223|        NULL|         NULL|           NULL|          NULL|        NULL|            NULL|       NULL|       NULL|           NULL|          NULL|            NULL|                NULL| 64.76169246059922|2283.3004408418697| NULL| 2283.3004407724266|\n",
            "| stddev|      NULL|  NULL|0.3686116056100135|   NULL|      NULL|24.559481023094442|        NULL|         NULL|           NULL|          NULL|        NULL|            NULL|       NULL|       NULL|           NULL|          NULL|            NULL|                NULL|30.090047097678482| 2266.771361883145| NULL|  2265.000259026857|\n",
            "|    min|0002-ORFBO|Female|                 0|     No|        No|                 0|          No|           No|            DSL|            No|          No|              No|         No|         No|             No|Month-to-month|              No|Bank transfer (au...|             18.25|                  |   No|               18.8|\n",
            "|    max|9995-HOTOH|  Male|                 1|    Yes|       Yes|                72|         Yes|          Yes|             No|           Yes|         Yes|             Yes|        Yes|        Yes|            Yes|      Two year|             Yes|        Mailed check|            118.75|             999.9|  Yes|             8684.8|\n",
            "+-------+----------+------+------------------+-------+----------+------------------+------------+-------------+---------------+--------------+------------+----------------+-----------+-----------+---------------+--------------+----------------+--------------------+------------------+------------------+-----+-------------------+\n",
            "\n"
          ]
        }
      ]
    },
    {
      "cell_type": "code",
      "source": [
        "pyspark_df.dtypes"
      ],
      "metadata": {
        "colab": {
          "base_uri": "https://localhost:8080/"
        },
        "id": "SsaTrxlFIHIb",
        "outputId": "f63dcb33-52b3-46db-ae61-1757e2c8f70b"
      },
      "execution_count": null,
      "outputs": [
        {
          "output_type": "execute_result",
          "data": {
            "text/plain": [
              "[('customerID', 'string'),\n",
              " ('gender', 'string'),\n",
              " ('SeniorCitizen', 'int'),\n",
              " ('Partner', 'string'),\n",
              " ('Dependents', 'string'),\n",
              " ('tenure', 'int'),\n",
              " ('PhoneService', 'string'),\n",
              " ('MultipleLines', 'string'),\n",
              " ('InternetService', 'string'),\n",
              " ('OnlineSecurity', 'string'),\n",
              " ('OnlineBackup', 'string'),\n",
              " ('DeviceProtection', 'string'),\n",
              " ('TechSupport', 'string'),\n",
              " ('StreamingTV', 'string'),\n",
              " ('StreamingMovies', 'string'),\n",
              " ('Contract', 'string'),\n",
              " ('PaperlessBilling', 'string'),\n",
              " ('PaymentMethod', 'string'),\n",
              " ('MonthlyCharges', 'double'),\n",
              " ('TotalCharges', 'string'),\n",
              " ('Churn', 'string')]"
            ]
          },
          "metadata": {},
          "execution_count": 13
        }
      ]
    },
    {
      "cell_type": "markdown",
      "source": [
        "#Limpieza de datos"
      ],
      "metadata": {
        "id": "1tlJ4mhUqDPV"
      }
    },
    {
      "cell_type": "markdown",
      "source": [
        "##Valores nulos"
      ],
      "metadata": {
        "id": "jcUK49nLpwIu"
      }
    },
    {
      "cell_type": "code",
      "source": [
        "from pyspark.sql.functions import col"
      ],
      "metadata": {
        "id": "LvnPwjc1oyfO"
      },
      "execution_count": 10,
      "outputs": []
    },
    {
      "cell_type": "code",
      "source": [
        "import pyspark.sql.functions as F"
      ],
      "metadata": {
        "id": "gJxTvYWAvFST"
      },
      "execution_count": 11,
      "outputs": []
    },
    {
      "cell_type": "code",
      "source": [
        "pyspark_df.select([ F.count( F.when(F.col(c).isNull(),c )  ).alias(c) for c in pyspark_df.columns  ]).show()"
      ],
      "metadata": {
        "colab": {
          "base_uri": "https://localhost:8080/"
        },
        "id": "C96VJKLJp9rc",
        "outputId": "c759f90e-0576-4e16-f66f-cd1c33f9e2f2"
      },
      "execution_count": null,
      "outputs": [
        {
          "output_type": "stream",
          "name": "stdout",
          "text": [
            "+----------+------+-------------+-------+----------+------+------------+-------------+---------------+--------------+------------+----------------+-----------+-----------+---------------+--------+----------------+-------------+--------------+------------+-----+\n",
            "|customerID|gender|SeniorCitizen|Partner|Dependents|tenure|PhoneService|MultipleLines|InternetService|OnlineSecurity|OnlineBackup|DeviceProtection|TechSupport|StreamingTV|StreamingMovies|Contract|PaperlessBilling|PaymentMethod|MonthlyCharges|TotalCharges|Churn|\n",
            "+----------+------+-------------+-------+----------+------+------------+-------------+---------------+--------------+------------+----------------+-----------+-----------+---------------+--------+----------------+-------------+--------------+------------+-----+\n",
            "|         0|     0|            0|      0|         0|     0|           0|            0|              0|             0|           0|               0|          0|          0|              0|       0|               0|            0|             0|           0|    0|\n",
            "+----------+------+-------------+-------+----------+------+------------+-------------+---------------+--------------+------------+----------------+-----------+-----------+---------------+--------+----------------+-------------+--------------+------------+-----+\n",
            "\n"
          ]
        }
      ]
    },
    {
      "cell_type": "code",
      "source": [
        "pyspark_df.select([ F.count( F.when(F.col(c) == \" \",c )  ).alias(c) for c in pyspark_df.columns  ]).show()"
      ],
      "metadata": {
        "colab": {
          "base_uri": "https://localhost:8080/"
        },
        "id": "yq7lu2ABpvXt",
        "outputId": "47b4d7e3-639f-4b29-eb3a-b563f5f2e831"
      },
      "execution_count": null,
      "outputs": [
        {
          "output_type": "stream",
          "name": "stdout",
          "text": [
            "+----------+------+-------------+-------+----------+------+------------+-------------+---------------+--------------+------------+----------------+-----------+-----------+---------------+--------+----------------+-------------+--------------+------------+-----+\n",
            "|customerID|gender|SeniorCitizen|Partner|Dependents|tenure|PhoneService|MultipleLines|InternetService|OnlineSecurity|OnlineBackup|DeviceProtection|TechSupport|StreamingTV|StreamingMovies|Contract|PaperlessBilling|PaymentMethod|MonthlyCharges|TotalCharges|Churn|\n",
            "+----------+------+-------------+-------+----------+------+------------+-------------+---------------+--------------+------------+----------------+-----------+-----------+---------------+--------+----------------+-------------+--------------+------------+-----+\n",
            "|         0|     0|            0|      0|         0|     0|           0|            0|              0|             0|           0|               0|          0|          0|              0|       0|               0|            0|             0|          11|    0|\n",
            "+----------+------+-------------+-------+----------+------+------------+-------------+---------------+--------------+------------+----------------+-----------+-----------+---------------+--------+----------------+-------------+--------------+------------+-----+\n",
            "\n"
          ]
        }
      ]
    },
    {
      "cell_type": "markdown",
      "source": [
        "##Tratar los valores nulos"
      ],
      "metadata": {
        "id": "A9IHCD5auDKB"
      }
    },
    {
      "cell_type": "code",
      "source": [
        "pyspark_df.groupBy('TotalCharges').count().orderBy('count', ascending = False).show(5)"
      ],
      "metadata": {
        "colab": {
          "base_uri": "https://localhost:8080/"
        },
        "id": "7VUDjIkSw9jN",
        "outputId": "2f49c440-a61d-4baa-9c4d-a8b6040773d6"
      },
      "execution_count": null,
      "outputs": [
        {
          "output_type": "stream",
          "name": "stdout",
          "text": [
            "+------------+-----+\n",
            "|TotalCharges|count|\n",
            "+------------+-----+\n",
            "|        20.2|   11|\n",
            "|            |   11|\n",
            "|       19.75|    9|\n",
            "|        19.9|    8|\n",
            "|       20.05|    8|\n",
            "+------------+-----+\n",
            "only showing top 5 rows\n",
            "\n"
          ]
        }
      ]
    },
    {
      "cell_type": "code",
      "source": [
        "mean = pyspark_df.select( F.mean(pyspark_df[\"TotalCharges\"] ) ).collect()[0][0]"
      ],
      "metadata": {
        "id": "97Y7rcKF_uUV"
      },
      "execution_count": 12,
      "outputs": []
    },
    {
      "cell_type": "code",
      "source": [
        "from pyspark.sql.types import FloatType"
      ],
      "metadata": {
        "id": "La4NZ0swHt45"
      },
      "execution_count": 13,
      "outputs": []
    },
    {
      "cell_type": "code",
      "source": [
        "pyspark_df = pyspark_df.withColumn('Clean_Total_Charges', F.when(pyspark_df.TotalCharges == \" \",\n",
        "round(mean, 2)).otherwise(pyspark_df.TotalCharges).cast(FloatType()))"
      ],
      "metadata": {
        "id": "1R5-UNYjqMUw"
      },
      "execution_count": 14,
      "outputs": []
    },
    {
      "cell_type": "code",
      "source": [
        "pyspark_df.groupby(\"Clean_Total_Charges\").count().orderBy(\"count\", ascending = False).show(5)"
      ],
      "metadata": {
        "colab": {
          "base_uri": "https://localhost:8080/"
        },
        "id": "F6q5fjmbqtne",
        "outputId": "d9fd98e6-914b-41a5-8e09-32d52af62548"
      },
      "execution_count": null,
      "outputs": [
        {
          "output_type": "stream",
          "name": "stdout",
          "text": [
            "+-------------------+-----+\n",
            "|Clean_Total_Charges|count|\n",
            "+-------------------+-----+\n",
            "|             2283.3|   12|\n",
            "|               20.2|   11|\n",
            "|              19.75|    9|\n",
            "|              19.65|    8|\n",
            "|              20.05|    8|\n",
            "+-------------------+-----+\n",
            "only showing top 5 rows\n",
            "\n"
          ]
        }
      ]
    },
    {
      "cell_type": "code",
      "source": [
        "pyspark_df.dtypes"
      ],
      "metadata": {
        "colab": {
          "base_uri": "https://localhost:8080/"
        },
        "id": "sq66-WAdqzQJ",
        "outputId": "f6931511-16f3-4039-8428-60290b03dc04"
      },
      "execution_count": null,
      "outputs": [
        {
          "output_type": "execute_result",
          "data": {
            "text/plain": [
              "[('customerID', 'string'),\n",
              " ('gender', 'string'),\n",
              " ('SeniorCitizen', 'int'),\n",
              " ('Partner', 'string'),\n",
              " ('Dependents', 'string'),\n",
              " ('tenure', 'int'),\n",
              " ('PhoneService', 'string'),\n",
              " ('MultipleLines', 'string'),\n",
              " ('InternetService', 'string'),\n",
              " ('OnlineSecurity', 'string'),\n",
              " ('OnlineBackup', 'string'),\n",
              " ('DeviceProtection', 'string'),\n",
              " ('TechSupport', 'string'),\n",
              " ('StreamingTV', 'string'),\n",
              " ('StreamingMovies', 'string'),\n",
              " ('Contract', 'string'),\n",
              " ('PaperlessBilling', 'string'),\n",
              " ('PaymentMethod', 'string'),\n",
              " ('MonthlyCharges', 'double'),\n",
              " ('TotalCharges', 'string'),\n",
              " ('Churn', 'string'),\n",
              " ('Clean_Total_Charges', 'float')]"
            ]
          },
          "metadata": {},
          "execution_count": 49
        }
      ]
    },
    {
      "cell_type": "markdown",
      "source": [
        "#Análisis exploratorio de datos"
      ],
      "metadata": {
        "id": "DsbYymIJJrTh"
      }
    },
    {
      "cell_type": "markdown",
      "source": [
        "##Variables categóricas"
      ],
      "metadata": {
        "id": "u_aPPOzxu1N9"
      }
    },
    {
      "cell_type": "code",
      "source": [
        "pyspark_df.show(5)"
      ],
      "metadata": {
        "colab": {
          "base_uri": "https://localhost:8080/"
        },
        "id": "bKaiU815vAoJ",
        "outputId": "235963dc-eaa6-49d7-8b05-d163b6081a28"
      },
      "execution_count": null,
      "outputs": [
        {
          "output_type": "stream",
          "name": "stdout",
          "text": [
            "+----------+------+-------------+-------+----------+------+------------+----------------+---------------+--------------+------------+----------------+-----------+-----------+---------------+--------------+----------------+--------------------+--------------+------------+-----+-------------------+\n",
            "|customerID|gender|SeniorCitizen|Partner|Dependents|tenure|PhoneService|   MultipleLines|InternetService|OnlineSecurity|OnlineBackup|DeviceProtection|TechSupport|StreamingTV|StreamingMovies|      Contract|PaperlessBilling|       PaymentMethod|MonthlyCharges|TotalCharges|Churn|Clean_Total_Charges|\n",
            "+----------+------+-------------+-------+----------+------+------------+----------------+---------------+--------------+------------+----------------+-----------+-----------+---------------+--------------+----------------+--------------------+--------------+------------+-----+-------------------+\n",
            "|7590-VHVEG|Female|            0|    Yes|        No|     1|          No|No phone service|            DSL|            No|         Yes|              No|         No|         No|             No|Month-to-month|             Yes|    Electronic check|         29.85|       29.85|   No|              29.85|\n",
            "|5575-GNVDE|  Male|            0|     No|        No|    34|         Yes|              No|            DSL|           Yes|          No|             Yes|         No|         No|             No|      One year|              No|        Mailed check|         56.95|      1889.5|   No|             1889.5|\n",
            "|3668-QPYBK|  Male|            0|     No|        No|     2|         Yes|              No|            DSL|           Yes|         Yes|              No|         No|         No|             No|Month-to-month|             Yes|        Mailed check|         53.85|      108.15|  Yes|             108.15|\n",
            "|7795-CFOCW|  Male|            0|     No|        No|    45|          No|No phone service|            DSL|           Yes|          No|             Yes|        Yes|         No|             No|      One year|              No|Bank transfer (au...|          42.3|     1840.75|   No|            1840.75|\n",
            "|9237-HQITU|Female|            0|     No|        No|     2|         Yes|              No|    Fiber optic|            No|          No|              No|         No|         No|             No|Month-to-month|             Yes|    Electronic check|          70.7|      151.65|  Yes|             151.65|\n",
            "+----------+------+-------------+-------+----------+------+------------+----------------+---------------+--------------+------------+----------------+-----------+-----------+---------------+--------------+----------------+--------------------+--------------+------------+-----+-------------------+\n",
            "only showing top 5 rows\n",
            "\n"
          ]
        }
      ]
    },
    {
      "cell_type": "code",
      "source": [
        "pyspark_df.groupBy(\"customerID\").count().orderBy(\"count\", ascending = False).show(5)"
      ],
      "metadata": {
        "colab": {
          "base_uri": "https://localhost:8080/"
        },
        "id": "5pASmOSjvzhT",
        "outputId": "8ae791d9-eef8-4b74-be02-6d719697fb7d"
      },
      "execution_count": null,
      "outputs": [
        {
          "output_type": "stream",
          "name": "stdout",
          "text": [
            "+----------+-----+\n",
            "|customerID|count|\n",
            "+----------+-----+\n",
            "|3668-QPYBK|    1|\n",
            "|6234-RAAPL|    1|\n",
            "|1894-IGFSG|    1|\n",
            "|6982-SSHFK|    1|\n",
            "|5859-HZYLF|    1|\n",
            "+----------+-----+\n",
            "only showing top 5 rows\n",
            "\n"
          ]
        }
      ]
    },
    {
      "cell_type": "markdown",
      "source": [
        "No se repiten los clientes"
      ],
      "metadata": {
        "id": "nbHzPwLcv_Qd"
      }
    },
    {
      "cell_type": "code",
      "source": [
        "V_categoricas = ['gender', 'Partner', 'Dependents', 'PhoneService',\n",
        " 'MultipleLines',\n",
        " 'InternetService',\n",
        " 'OnlineSecurity',\n",
        " 'OnlineBackup',\n",
        " 'DeviceProtection',\n",
        " 'TechSupport',\n",
        " 'StreamingTV',\n",
        " 'StreamingMovies',\n",
        " 'Contract',\n",
        " 'PaperlessBilling',\n",
        " 'PaymentMethod',\n",
        " 'Churn']"
      ],
      "metadata": {
        "id": "pRvNllr_vjEJ"
      },
      "execution_count": 15,
      "outputs": []
    },
    {
      "cell_type": "code",
      "source": [
        "for i in V_categoricas:\n",
        "  pyspark_df.groupBy(i).count().show()\n"
      ],
      "metadata": {
        "colab": {
          "base_uri": "https://localhost:8080/"
        },
        "id": "NdnShKnXvC2k",
        "outputId": "19ccab4a-8230-4996-b822-8bc1019717ad"
      },
      "execution_count": null,
      "outputs": [
        {
          "output_type": "stream",
          "name": "stdout",
          "text": [
            "+------+-----+\n",
            "|gender|count|\n",
            "+------+-----+\n",
            "|Female| 3488|\n",
            "|  Male| 3555|\n",
            "+------+-----+\n",
            "\n",
            "+-------+-----+\n",
            "|Partner|count|\n",
            "+-------+-----+\n",
            "|     No| 3641|\n",
            "|    Yes| 3402|\n",
            "+-------+-----+\n",
            "\n",
            "+----------+-----+\n",
            "|Dependents|count|\n",
            "+----------+-----+\n",
            "|        No| 4933|\n",
            "|       Yes| 2110|\n",
            "+----------+-----+\n",
            "\n",
            "+------------+-----+\n",
            "|PhoneService|count|\n",
            "+------------+-----+\n",
            "|          No|  682|\n",
            "|         Yes| 6361|\n",
            "+------------+-----+\n",
            "\n",
            "+----------------+-----+\n",
            "|   MultipleLines|count|\n",
            "+----------------+-----+\n",
            "|No phone service|  682|\n",
            "|              No| 3390|\n",
            "|             Yes| 2971|\n",
            "+----------------+-----+\n",
            "\n",
            "+---------------+-----+\n",
            "|InternetService|count|\n",
            "+---------------+-----+\n",
            "|    Fiber optic| 3096|\n",
            "|             No| 1526|\n",
            "|            DSL| 2421|\n",
            "+---------------+-----+\n",
            "\n",
            "+-------------------+-----+\n",
            "|     OnlineSecurity|count|\n",
            "+-------------------+-----+\n",
            "|                 No| 3498|\n",
            "|                Yes| 2019|\n",
            "|No internet service| 1526|\n",
            "+-------------------+-----+\n",
            "\n",
            "+-------------------+-----+\n",
            "|       OnlineBackup|count|\n",
            "+-------------------+-----+\n",
            "|                 No| 3088|\n",
            "|                Yes| 2429|\n",
            "|No internet service| 1526|\n",
            "+-------------------+-----+\n",
            "\n",
            "+-------------------+-----+\n",
            "|   DeviceProtection|count|\n",
            "+-------------------+-----+\n",
            "|                 No| 3095|\n",
            "|                Yes| 2422|\n",
            "|No internet service| 1526|\n",
            "+-------------------+-----+\n",
            "\n",
            "+-------------------+-----+\n",
            "|        TechSupport|count|\n",
            "+-------------------+-----+\n",
            "|                 No| 3473|\n",
            "|                Yes| 2044|\n",
            "|No internet service| 1526|\n",
            "+-------------------+-----+\n",
            "\n",
            "+-------------------+-----+\n",
            "|        StreamingTV|count|\n",
            "+-------------------+-----+\n",
            "|                 No| 2810|\n",
            "|                Yes| 2707|\n",
            "|No internet service| 1526|\n",
            "+-------------------+-----+\n",
            "\n",
            "+-------------------+-----+\n",
            "|    StreamingMovies|count|\n",
            "+-------------------+-----+\n",
            "|                 No| 2785|\n",
            "|                Yes| 2732|\n",
            "|No internet service| 1526|\n",
            "+-------------------+-----+\n",
            "\n",
            "+--------------+-----+\n",
            "|      Contract|count|\n",
            "+--------------+-----+\n",
            "|Month-to-month| 3875|\n",
            "|      One year| 1473|\n",
            "|      Two year| 1695|\n",
            "+--------------+-----+\n",
            "\n",
            "+----------------+-----+\n",
            "|PaperlessBilling|count|\n",
            "+----------------+-----+\n",
            "|              No| 2872|\n",
            "|             Yes| 4171|\n",
            "+----------------+-----+\n",
            "\n",
            "+--------------------+-----+\n",
            "|       PaymentMethod|count|\n",
            "+--------------------+-----+\n",
            "|Credit card (auto...| 1522|\n",
            "|        Mailed check| 1612|\n",
            "|Bank transfer (au...| 1544|\n",
            "|    Electronic check| 2365|\n",
            "+--------------------+-----+\n",
            "\n",
            "+-----+-----+\n",
            "|Churn|count|\n",
            "+-----+-----+\n",
            "|   No| 5174|\n",
            "|  Yes| 1869|\n",
            "+-----+-----+\n",
            "\n"
          ]
        }
      ]
    },
    {
      "cell_type": "markdown",
      "source": [
        "Con las tablas anteriores vemos que existen clases desbalanceadas."
      ],
      "metadata": {
        "id": "bk03-6NoxYyV"
      }
    },
    {
      "cell_type": "code",
      "source": [
        "#Obtener la moda de una columna categórica\n",
        "pyspark_df.groupby(\"gender\").count().orderBy(\"count\", ascending = False).first()[0]"
      ],
      "metadata": {
        "colab": {
          "base_uri": "https://localhost:8080/",
          "height": 35
        },
        "id": "GTIt8Suazdqj",
        "outputId": "f25b9e0b-45d0-4d19-a108-cc74d04264fb"
      },
      "execution_count": null,
      "outputs": [
        {
          "output_type": "execute_result",
          "data": {
            "text/plain": [
              "'Male'"
            ],
            "application/vnd.google.colaboratory.intrinsic+json": {
              "type": "string"
            }
          },
          "metadata": {},
          "execution_count": 101
        }
      ]
    },
    {
      "cell_type": "code",
      "source": [
        "pyspark_df.select('MonthlyCharges', \"Churn\").groupBy(\"Churn\").agg( F.avg('MonthlyCharges').alias(\"Promedio de MonthlyCharges\") ).show()"
      ],
      "metadata": {
        "colab": {
          "base_uri": "https://localhost:8080/"
        },
        "id": "8sDC4OyiIuAp",
        "outputId": "97c050d8-e073-4f9f-880f-7d1b9c6d0e2a"
      },
      "execution_count": null,
      "outputs": [
        {
          "output_type": "stream",
          "name": "stdout",
          "text": [
            "+-----+--------------------------+\n",
            "|Churn|Promedio de MonthlyCharges|\n",
            "+-----+--------------------------+\n",
            "|   No|          61.2651236953999|\n",
            "|  Yes|          74.4413322632423|\n",
            "+-----+--------------------------+\n",
            "\n"
          ]
        }
      ]
    },
    {
      "cell_type": "markdown",
      "source": [
        "Promedio de MonthlyCharges para cada clase de la variable objetivo"
      ],
      "metadata": {
        "id": "5is9_px0xwiV"
      }
    },
    {
      "cell_type": "code",
      "source": [
        "pyspark_df.select(\"gender\", \"Churn\").groupBy(\"Churn\", \"gender\").count().show()"
      ],
      "metadata": {
        "colab": {
          "base_uri": "https://localhost:8080/"
        },
        "id": "KcN8_kmfJFHN",
        "outputId": "ee70b362-4e02-40d6-b828-b805950a96e7"
      },
      "execution_count": null,
      "outputs": [
        {
          "output_type": "stream",
          "name": "stdout",
          "text": [
            "+-----+------+-----+\n",
            "|Churn|gender|count|\n",
            "+-----+------+-----+\n",
            "|   No|Female| 2549|\n",
            "|   No|  Male| 2625|\n",
            "|  Yes|  Male|  930|\n",
            "|  Yes|Female|  939|\n",
            "+-----+------+-----+\n",
            "\n"
          ]
        }
      ]
    },
    {
      "cell_type": "markdown",
      "source": [
        "Distribución de la variable objetivo y el género"
      ],
      "metadata": {
        "id": "M0T_dbLayGTA"
      }
    },
    {
      "cell_type": "markdown",
      "source": [
        "##Variables numéricas"
      ],
      "metadata": {
        "id": "lA0xj9YMuxPt"
      }
    },
    {
      "cell_type": "code",
      "source": [
        "pyspark_df.select([\"SeniorCitizen\", \"tenure\", \"MonthlyCharges\", \"Clean_Total_Charges\"]).describe().show()"
      ],
      "metadata": {
        "colab": {
          "base_uri": "https://localhost:8080/"
        },
        "id": "2b00Lb2U_IlM",
        "outputId": "4e12fb87-3418-4fda-da50-36d03ad5e5bb"
      },
      "execution_count": null,
      "outputs": [
        {
          "output_type": "stream",
          "name": "stdout",
          "text": [
            "+-------+------------------+------------------+------------------+-------------------+\n",
            "|summary|     SeniorCitizen|            tenure|    MonthlyCharges|Clean_Total_Charges|\n",
            "+-------+------------------+------------------+------------------+-------------------+\n",
            "|  count|              7043|              7043|              7043|               7043|\n",
            "|   mean|0.1621468124378816| 32.37114865824223| 64.76169246059922| 2283.3004407724266|\n",
            "| stddev|0.3686116056100135|24.559481023094442|30.090047097678482|  2265.000259026857|\n",
            "|    min|                 0|                 0|             18.25|               18.8|\n",
            "|    max|                 1|                72|            118.75|             8684.8|\n",
            "+-------+------------------+------------------+------------------+-------------------+\n",
            "\n"
          ]
        }
      ]
    },
    {
      "cell_type": "code",
      "source": [
        "pyspark_df.sample(False, 0.1).toPandas().hist();"
      ],
      "metadata": {
        "colab": {
          "base_uri": "https://localhost:8080/",
          "height": 452
        },
        "id": "CShu2DozS1OQ",
        "outputId": "c43a8f0f-7cb8-4c97-b921-247ce67a1e2f"
      },
      "execution_count": null,
      "outputs": [
        {
          "output_type": "display_data",
          "data": {
            "text/plain": [
              "<Figure size 640x480 with 4 Axes>"
            ],
            "image/png": "[encoded data removed]"
          },
          "metadata": {}
        }
      ]
    },
    {
      "cell_type": "code",
      "source": [
        "pyspark_df.select('SeniorCitizen').toPandas().hist()\n",
        "\n",
        "plt.xlabel(\"Valor\")\n",
        "plt.ylabel(\"Cuentas\")\n",
        "\n",
        "plt.show()"
      ],
      "metadata": {
        "colab": {
          "base_uri": "https://localhost:8080/",
          "height": 472
        },
        "id": "xBzzXt_gt6Uq",
        "outputId": "b8fd13ba-69ac-4078-bec5-55e23716fa6c"
      },
      "execution_count": null,
      "outputs": [
        {
          "output_type": "display_data",
          "data": {
            "text/plain": [
              "<Figure size 640x480 with 1 Axes>"
            ],
            "image/png": "[encoded data removed]"
          },
          "metadata": {}
        }
      ]
    },
    {
      "cell_type": "code",
      "source": [
        "pyspark_df.filter( F.col(\"SeniorCitizen\") == 1 ).show(5)"
      ],
      "metadata": {
        "colab": {
          "base_uri": "https://localhost:8080/"
        },
        "id": "wP5kwULFzTTM",
        "outputId": "312a31bf-b05a-4751-e226-949a3362df77"
      },
      "execution_count": null,
      "outputs": [
        {
          "output_type": "stream",
          "name": "stdout",
          "text": [
            "+----------+------+-------------+-------+----------+------+------------+----------------+---------------+--------------+------------+----------------+-----------+-----------+---------------+--------------+----------------+--------------------+--------------+------------+-----+-------------------+\n",
            "|customerID|gender|SeniorCitizen|Partner|Dependents|tenure|PhoneService|   MultipleLines|InternetService|OnlineSecurity|OnlineBackup|DeviceProtection|TechSupport|StreamingTV|StreamingMovies|      Contract|PaperlessBilling|       PaymentMethod|MonthlyCharges|TotalCharges|Churn|Clean_Total_Charges|\n",
            "+----------+------+-------------+-------+----------+------+------------+----------------+---------------+--------------+------------+----------------+-----------+-----------+---------------+--------------+----------------+--------------------+--------------+------------+-----+-------------------+\n",
            "|8779-QRDMV|  Male|            1|     No|        No|     1|          No|No phone service|            DSL|            No|          No|             Yes|         No|         No|            Yes|Month-to-month|             Yes|    Electronic check|         39.65|       39.65|  Yes|              39.65|\n",
            "|3841-NFECX|Female|            1|    Yes|        No|    71|         Yes|             Yes|    Fiber optic|           Yes|         Yes|             Yes|        Yes|         No|             No|      Two year|             Yes|Credit card (auto...|         96.35|     6766.95|   No|            6766.95|\n",
            "|4929-XIHVW|  Male|            1|    Yes|        No|     2|         Yes|              No|    Fiber optic|            No|          No|             Yes|         No|        Yes|            Yes|Month-to-month|             Yes|Credit card (auto...|          95.5|      181.65|   No|             181.65|\n",
            "|3413-BMNZE|  Male|            1|     No|        No|     1|         Yes|              No|            DSL|            No|          No|              No|         No|         No|             No|Month-to-month|              No|Bank transfer (au...|         45.25|       45.25|   No|              45.25|\n",
            "|8012-SOUDQ|Female|            1|     No|        No|    43|         Yes|             Yes|    Fiber optic|            No|         Yes|              No|         No|        Yes|             No|Month-to-month|             Yes|    Electronic check|         90.25|     3838.75|   No|            3838.75|\n",
            "+----------+------+-------------+-------+----------+------+------------+----------------+---------------+--------------+------------+----------------+-----------+-----------+---------------+--------------+----------------+--------------------+--------------+------------+-----+-------------------+\n",
            "only showing top 5 rows\n",
            "\n"
          ]
        }
      ]
    },
    {
      "cell_type": "code",
      "source": [
        "pyspark_df.select('tenure').toPandas().hist()\n",
        "\n",
        "plt.xlabel(\"Valor\")\n",
        "plt.ylabel(\"Cuentas\")\n",
        "\n",
        "plt.show()"
      ],
      "metadata": {
        "colab": {
          "base_uri": "https://localhost:8080/",
          "height": 472
        },
        "id": "IoVsmhGYt_8a",
        "outputId": "ba9fd129-5da9-4f6e-80c8-270ab80e2931"
      },
      "execution_count": null,
      "outputs": [
        {
          "output_type": "display_data",
          "data": {
            "text/plain": [
              "<Figure size 640x480 with 1 Axes>"
            ],
            "image/png": "[encoded data removed]"
          },
          "metadata": {}
        }
      ]
    },
    {
      "cell_type": "code",
      "source": [
        "pyspark_df.select('MonthlyCharges').toPandas().hist()\n",
        "\n",
        "plt.xlabel(\"Valor\")\n",
        "plt.ylabel(\"Cuentas\")\n",
        "\n",
        "plt.show()"
      ],
      "metadata": {
        "colab": {
          "base_uri": "https://localhost:8080/",
          "height": 472
        },
        "id": "8oiQsH8nuE2w",
        "outputId": "28efca17-37d7-4d45-cf87-0c0cf7004405"
      },
      "execution_count": null,
      "outputs": [
        {
          "output_type": "display_data",
          "data": {
            "text/plain": [
              "<Figure size 640x480 with 1 Axes>"
            ],
            "image/png": "[encoded data removed]"
          },
          "metadata": {}
        }
      ]
    },
    {
      "cell_type": "code",
      "source": [
        "pyspark_df.select('Clean_Total_Charges').toPandas().hist()\n",
        "\n",
        "plt.xlabel(\"Valor\")\n",
        "plt.ylabel(\"Cuentas\")\n",
        "\n",
        "plt.show()"
      ],
      "metadata": {
        "colab": {
          "base_uri": "https://localhost:8080/",
          "height": 472
        },
        "id": "gltaQpm-trFG",
        "outputId": "b9c16cf5-b72c-42ee-8651-46a463c74d43"
      },
      "execution_count": null,
      "outputs": [
        {
          "output_type": "display_data",
          "data": {
            "text/plain": [
              "<Figure size 640x480 with 1 Axes>"
            ],
            "image/png": "[encoded data removed]"
          },
          "metadata": {}
        }
      ]
    },
    {
      "cell_type": "code",
      "source": [
        "pyspark_df.select('Clean_Total_Charges').toPandas().boxplot()"
      ],
      "metadata": {
        "colab": {
          "base_uri": "https://localhost:8080/",
          "height": 447
        },
        "id": "oBUTfSWIzCkT",
        "outputId": "e26cff7c-3a1f-4eec-afd8-5a91e6a2997d"
      },
      "execution_count": null,
      "outputs": [
        {
          "output_type": "execute_result",
          "data": {
            "text/plain": [
              "<Axes: >"
            ]
          },
          "metadata": {},
          "execution_count": 98
        },
        {
          "output_type": "display_data",
          "data": {
            "text/plain": [
              "<Figure size 640x480 with 1 Axes>"
            ],
            "image/png": "[encoded data removed]"
          },
          "metadata": {}
        }
      ]
    },
    {
      "cell_type": "markdown",
      "source": [
        "##Matriz de correlacion"
      ],
      "metadata": {
        "id": "jMsPbE68JziE"
      }
    },
    {
      "cell_type": "code",
      "source": [
        "V_numericas = [\"SeniorCitizen\", \"tenure\", \"MonthlyCharges\", \"Clean_Total_Charges\"]"
      ],
      "metadata": {
        "id": "av0lXdb1J5a5"
      },
      "execution_count": 16,
      "outputs": []
    },
    {
      "cell_type": "code",
      "source": [
        "corr_df = pd.DataFrame()\n",
        "\n",
        "for i in V_numericas:\n",
        "  corr = []\n",
        "  for j in V_numericas:\n",
        "    corr.append( round( pyspark_df.stat.corr(i, j) , 2) )\n",
        "  corr_df = pd.concat([corr_df, pd.Series(corr)], axis =1 )\n",
        "corr_df.columns = V_numericas\n",
        "corr_df.index = V_numericas"
      ],
      "metadata": {
        "id": "RZjRtYg9K0sK"
      },
      "execution_count": null,
      "outputs": []
    },
    {
      "cell_type": "code",
      "source": [
        "sns.heatmap(corr_df, cmap=\"hot\", annot= True, fmt=\".2f\")\n",
        "\n",
        "plt.show()"
      ],
      "metadata": {
        "colab": {
          "base_uri": "https://localhost:8080/",
          "height": 565
        },
        "id": "jSxwPo2AMk8n",
        "outputId": "fee65d97-0c44-4d21-d0fc-4c26504f5657"
      },
      "execution_count": null,
      "outputs": [
        {
          "output_type": "display_data",
          "data": {
            "text/plain": [
              "<Figure size 640x480 with 2 Axes>"
            ],
            "image/png": "[encoded data removed]"
          },
          "metadata": {}
        }
      ]
    },
    {
      "cell_type": "code",
      "source": [],
      "metadata": {
        "id": "FYVG9pM7rViB"
      },
      "execution_count": null,
      "outputs": []
    },
    {
      "cell_type": "markdown",
      "source": [
        "#Consultas SQL"
      ],
      "metadata": {
        "id": "NtvAgfbCNEaO"
      }
    },
    {
      "cell_type": "code",
      "source": [
        "import pyspark.sql as sparksql"
      ],
      "metadata": {
        "id": "j4ihJBeLKxur"
      },
      "execution_count": 17,
      "outputs": []
    },
    {
      "cell_type": "code",
      "source": [
        "pyspark_df.createOrReplaceTempView('table')"
      ],
      "metadata": {
        "id": "v98vQuYBNGC8"
      },
      "execution_count": 18,
      "outputs": []
    },
    {
      "cell_type": "markdown",
      "source": [
        "#Transformación de variables"
      ],
      "metadata": {
        "id": "doaCRw4XEPzw"
      }
    },
    {
      "cell_type": "code",
      "source": [
        "from pyspark.ml.feature import VectorAssembler, OneHotEncoder, StringIndexer"
      ],
      "metadata": {
        "id": "F1leP0Z8EQOG"
      },
      "execution_count": 19,
      "outputs": []
    },
    {
      "cell_type": "code",
      "source": [
        "from pyspark.ml import Pipeline"
      ],
      "metadata": {
        "id": "Lk3BpQpP3Mb3"
      },
      "execution_count": 20,
      "outputs": []
    },
    {
      "cell_type": "markdown",
      "source": [
        "##OneHot Variable objetivo"
      ],
      "metadata": {
        "id": "7ClfUvlY2x8B"
      }
    },
    {
      "cell_type": "code",
      "source": [
        "pyspark_df.select(\"Churn\").distinct().show()"
      ],
      "metadata": {
        "id": "AHXfI7FuBF9Z",
        "outputId": "ede9a2fe-92e4-491a-e9d5-d11c079e8cb7",
        "colab": {
          "base_uri": "https://localhost:8080/"
        }
      },
      "execution_count": null,
      "outputs": [
        {
          "output_type": "stream",
          "name": "stdout",
          "text": [
            "+-----+\n",
            "|Churn|\n",
            "+-----+\n",
            "|   No|\n",
            "|  Yes|\n",
            "+-----+\n",
            "\n"
          ]
        }
      ]
    },
    {
      "cell_type": "code",
      "source": [
        "ChurnEncoder = StringIndexer( inputCol= \"Churn\", outputCol=\"y\" )"
      ],
      "metadata": {
        "id": "6iaWy9n5iF8c"
      },
      "execution_count": 21,
      "outputs": []
    },
    {
      "cell_type": "code",
      "source": [
        "converted_df = ChurnEncoder.fit(pyspark_df).transform(pyspark_df)"
      ],
      "metadata": {
        "id": "uKF_A2NU02ze"
      },
      "execution_count": 22,
      "outputs": []
    },
    {
      "cell_type": "code",
      "source": [
        "#encoder = OneHotEncoder(dropLast = True, inputCol =ChurnEncoder.getOutputCol(), outputCol=\"{0}_encoded\".format(ChurnEncoder.getOutputCol() ) )"
      ],
      "metadata": {
        "id": "h7oH3-dhmQ1e"
      },
      "execution_count": 23,
      "outputs": []
    },
    {
      "cell_type": "code",
      "source": [
        "#converted_df = encoder.fit(converted_df).transform(converted_df)"
      ],
      "metadata": {
        "id": "IUogVk3ImnCQ"
      },
      "execution_count": 24,
      "outputs": []
    },
    {
      "cell_type": "code",
      "source": [
        "converted_df.show(5)"
      ],
      "metadata": {
        "colab": {
          "base_uri": "https://localhost:8080/"
        },
        "id": "MTk6-amK1tCt",
        "outputId": "8b504068-0a21-4242-930c-d67c542d97c2"
      },
      "execution_count": null,
      "outputs": [
        {
          "output_type": "stream",
          "name": "stdout",
          "text": [
            "+----------+------+-------------+-------+----------+------+------------+----------------+---------------+--------------+------------+----------------+-----------+-----------+---------------+--------------+----------------+--------------------+--------------+------------+-----+-------------------+---+\n",
            "|customerID|gender|SeniorCitizen|Partner|Dependents|tenure|PhoneService|   MultipleLines|InternetService|OnlineSecurity|OnlineBackup|DeviceProtection|TechSupport|StreamingTV|StreamingMovies|      Contract|PaperlessBilling|       PaymentMethod|MonthlyCharges|TotalCharges|Churn|Clean_Total_Charges|  y|\n",
            "+----------+------+-------------+-------+----------+------+------------+----------------+---------------+--------------+------------+----------------+-----------+-----------+---------------+--------------+----------------+--------------------+--------------+------------+-----+-------------------+---+\n",
            "|7590-VHVEG|Female|            0|    Yes|        No|     1|          No|No phone service|            DSL|            No|         Yes|              No|         No|         No|             No|Month-to-month|             Yes|    Electronic check|         29.85|       29.85|   No|              29.85|0.0|\n",
            "|5575-GNVDE|  Male|            0|     No|        No|    34|         Yes|              No|            DSL|           Yes|          No|             Yes|         No|         No|             No|      One year|              No|        Mailed check|         56.95|      1889.5|   No|             1889.5|0.0|\n",
            "|3668-QPYBK|  Male|            0|     No|        No|     2|         Yes|              No|            DSL|           Yes|         Yes|              No|         No|         No|             No|Month-to-month|             Yes|        Mailed check|         53.85|      108.15|  Yes|             108.15|1.0|\n",
            "|7795-CFOCW|  Male|            0|     No|        No|    45|          No|No phone service|            DSL|           Yes|          No|             Yes|        Yes|         No|             No|      One year|              No|Bank transfer (au...|          42.3|     1840.75|   No|            1840.75|0.0|\n",
            "|9237-HQITU|Female|            0|     No|        No|     2|         Yes|              No|    Fiber optic|            No|          No|              No|         No|         No|             No|Month-to-month|             Yes|    Electronic check|          70.7|      151.65|  Yes|             151.65|1.0|\n",
            "+----------+------+-------------+-------+----------+------+------------+----------------+---------------+--------------+------------+----------------+-----------+-----------+---------------+--------------+----------------+--------------------+--------------+------------+-----+-------------------+---+\n",
            "only showing top 5 rows\n",
            "\n"
          ]
        }
      ]
    },
    {
      "cell_type": "markdown",
      "source": [
        "##StandardScaler"
      ],
      "metadata": {
        "id": "7SoA9AfV2vYM"
      }
    },
    {
      "cell_type": "code",
      "source": [
        "from pyspark.ml.feature import StandardScaler"
      ],
      "metadata": {
        "id": "qt6XudxA2l6q"
      },
      "execution_count": 25,
      "outputs": []
    },
    {
      "cell_type": "code",
      "source": [
        "V_numericas[:]"
      ],
      "metadata": {
        "colab": {
          "base_uri": "https://localhost:8080/"
        },
        "id": "9lTbamjWrdGn",
        "outputId": "3bd4c7d4-5af3-414b-9453-2b3d2e7daa12"
      },
      "execution_count": 135,
      "outputs": [
        {
          "output_type": "execute_result",
          "data": {
            "text/plain": [
              "['SeniorCitizen', 'tenure', 'MonthlyCharges', 'Clean_Total_Charges']"
            ]
          },
          "metadata": {},
          "execution_count": 135
        }
      ]
    },
    {
      "cell_type": "code",
      "source": [
        "assembler = VectorAssembler(inputCols=[\"Clean_Total_Charges\"], outputCol=\"features_num\")"
      ],
      "metadata": {
        "id": "uATLgV2-3CpV"
      },
      "execution_count": 138,
      "outputs": []
    },
    {
      "cell_type": "code",
      "source": [
        "V_numericas[1:]"
      ],
      "metadata": {
        "colab": {
          "base_uri": "https://localhost:8080/"
        },
        "id": "pNqZgB-B3EvI",
        "outputId": "3562f99b-d038-4356-984d-0f87546de38a"
      },
      "execution_count": null,
      "outputs": [
        {
          "output_type": "execute_result",
          "data": {
            "text/plain": [
              "['tenure', 'MonthlyCharges', 'Clean_Total_Charges']"
            ]
          },
          "metadata": {},
          "execution_count": 108
        }
      ]
    },
    {
      "cell_type": "code",
      "source": [
        "assembled_df = assembler.transform(converted_df)"
      ],
      "metadata": {
        "id": "hbrALi1Z5FkU"
      },
      "execution_count": 139,
      "outputs": []
    },
    {
      "cell_type": "code",
      "source": [
        "standardScaler = StandardScaler(inputCol=\"features_num\", outputCol=\"features_scaled\")"
      ],
      "metadata": {
        "id": "Y-45igZK5Vnd"
      },
      "execution_count": 140,
      "outputs": []
    },
    {
      "cell_type": "code",
      "source": [
        "scaled_df = standardScaler.fit(assembled_df).transform(assembled_df)"
      ],
      "metadata": {
        "id": "vYHe_pos4wzl"
      },
      "execution_count": 141,
      "outputs": []
    },
    {
      "cell_type": "markdown",
      "source": [
        "##OneHot Encoding"
      ],
      "metadata": {
        "id": "1C2ExIce26fX"
      }
    },
    {
      "cell_type": "code",
      "source": [
        "indexers = [ StringIndexer( inputCol = col, outputCol=\"{0}_index\".format(col) ) for col in V_categoricas[:-1] ]"
      ],
      "metadata": {
        "id": "xrlLWNkE3_qu"
      },
      "execution_count": 142,
      "outputs": []
    },
    {
      "cell_type": "code",
      "source": [
        "encoders = [OneHotEncoder(dropLast = False, inputCol = indexer.getOutputCol(), outputCol=\"{0}_encoded\". format(indexer.getOutputCol() ) )\n",
        "for indexer in indexers]"
      ],
      "metadata": {
        "id": "whx9wsr139KP"
      },
      "execution_count": 144,
      "outputs": []
    },
    {
      "cell_type": "code",
      "source": [
        "scaled_df.show(5)"
      ],
      "metadata": {
        "colab": {
          "base_uri": "https://localhost:8080/"
        },
        "id": "E-Gthlqj53ve",
        "outputId": "f45ef8ac-285a-441f-e408-79145caf6fdf"
      },
      "execution_count": 145,
      "outputs": [
        {
          "output_type": "stream",
          "name": "stdout",
          "text": [
            "+----------+------+-------------+-------+----------+------+------------+----------------+---------------+--------------+------------+----------------+-----------+-----------+---------------+--------------+----------------+--------------------+--------------+------------+-----+-------------------+---+--------------------+--------------------+\n",
            "|customerID|gender|SeniorCitizen|Partner|Dependents|tenure|PhoneService|   MultipleLines|InternetService|OnlineSecurity|OnlineBackup|DeviceProtection|TechSupport|StreamingTV|StreamingMovies|      Contract|PaperlessBilling|       PaymentMethod|MonthlyCharges|TotalCharges|Churn|Clean_Total_Charges|  y|        features_num|     features_scaled|\n",
            "+----------+------+-------------+-------+----------+------+------------+----------------+---------------+--------------+------------+----------------+-----------+-----------+---------------+--------------+----------------+--------------------+--------------+------------+-----+-------------------+---+--------------------+--------------------+\n",
            "|7590-VHVEG|Female|            0|    Yes|        No|     1|          No|No phone service|            DSL|            No|         Yes|              No|         No|         No|             No|Month-to-month|             Yes|    Electronic check|         29.85|       29.85|   No|              29.85|0.0|[29.850000381469727]|[0.01317880660830...|\n",
            "|5575-GNVDE|  Male|            0|     No|        No|    34|         Yes|              No|            DSL|           Yes|          No|             Yes|         No|         No|             No|      One year|              No|        Mailed check|         56.95|      1889.5|   No|             1889.5|0.0|            [1889.5]| [0.834216240139333]|\n",
            "|3668-QPYBK|  Male|            0|     No|        No|     2|         Yes|              No|            DSL|           Yes|         Yes|              No|         No|         No|             No|Month-to-month|             Yes|        Mailed check|         53.85|      108.15|  Yes|             108.15|1.0| [108.1500015258789]|[0.04774833958400...|\n",
            "|7795-CFOCW|  Male|            0|     No|        No|    45|          No|No phone service|            DSL|           Yes|          No|             Yes|        Yes|         No|             No|      One year|              No|Bank transfer (au...|          42.3|     1840.75|   No|            1840.75|0.0|           [1840.75]|[0.8126930637927903]|\n",
            "|9237-HQITU|Female|            0|     No|        No|     2|         Yes|              No|    Fiber optic|            No|          No|              No|         No|         No|             No|Month-to-month|             Yes|    Electronic check|          70.7|      151.65|  Yes|             151.65|1.0|[151.64999389648438]|[0.06695363203253...|\n",
            "+----------+------+-------------+-------+----------+------+------------+----------------+---------------+--------------+------------+----------------+-----------+-----------+---------------+--------------+----------------+--------------------+--------------+------------+-----+-------------------+---+--------------------+--------------------+\n",
            "only showing top 5 rows\n",
            "\n"
          ]
        }
      ]
    },
    {
      "cell_type": "code",
      "source": [
        "input_columns = [encoder.getOutputCol() for encoder in encoders] + [\"features_scaled\"] + [\"SeniorCitizen\"]"
      ],
      "metadata": {
        "id": "NLVGjPN32qgf"
      },
      "execution_count": 146,
      "outputs": []
    },
    {
      "cell_type": "code",
      "source": [
        "assembler = VectorAssembler(inputCols=input_columns, outputCol = \"feature\")"
      ],
      "metadata": {
        "id": "7TrD-iWZ26Ku"
      },
      "execution_count": 147,
      "outputs": []
    },
    {
      "cell_type": "markdown",
      "source": [
        "###Pipeline"
      ],
      "metadata": {
        "id": "4zU9_kMNEoGs"
      }
    },
    {
      "cell_type": "code",
      "source": [
        "pipeline = Pipeline(stages = indexers+encoders+[assembler])"
      ],
      "metadata": {
        "id": "_e78jGuW3DCp"
      },
      "execution_count": 148,
      "outputs": []
    },
    {
      "cell_type": "code",
      "source": [
        "data_model = pipeline.fit(scaled_df)"
      ],
      "metadata": {
        "id": "fAGbVcKY3SVB"
      },
      "execution_count": 149,
      "outputs": []
    },
    {
      "cell_type": "code",
      "source": [
        "nombres_features = [i.labels for i in data_model.stages[0:15] ]"
      ],
      "metadata": {
        "id": "by4Prk4k7CtJ"
      },
      "execution_count": 234,
      "outputs": []
    },
    {
      "cell_type": "code",
      "source": [
        "nombres_features2 = []\n",
        "kkk = 0\n",
        "for i in nombres_features:\n",
        "  nombre_V = V_categoricas[kkk]\n",
        "  for j in i:\n",
        "    nombres_features2.append(f\"{nombre_V}_{j}\")\n",
        "  kkk += 1"
      ],
      "metadata": {
        "id": "urBkV1mh71IK"
      },
      "execution_count": 272,
      "outputs": []
    },
    {
      "cell_type": "code",
      "source": [
        "nombres_caracteristicas = nombres_features2+[\"Clean_total_Charges\"]+[\"SeniorCitizen\"]"
      ],
      "metadata": {
        "id": "YY_5Y3SY7wXg"
      },
      "execution_count": 275,
      "outputs": []
    },
    {
      "cell_type": "code",
      "source": [
        "transformed_df = data_model.transform(scaled_df)"
      ],
      "metadata": {
        "id": "Y52zfC7Y3X3-"
      },
      "execution_count": 150,
      "outputs": []
    },
    {
      "cell_type": "code",
      "source": [
        "transformed_df.select(\"feature\").collect()[0][0]"
      ],
      "metadata": {
        "colab": {
          "base_uri": "https://localhost:8080/"
        },
        "id": "B3auH8uf3nMO",
        "outputId": "944b1340-af32-4be8-bc9a-8055c7058455"
      },
      "execution_count": 198,
      "outputs": [
        {
          "output_type": "execute_result",
          "data": {
            "text/plain": [
              "SparseVector(43, {1: 1.0, 3: 1.0, 4: 1.0, 7: 1.0, 10: 1.0, 12: 1.0, 14: 1.0, 18: 1.0, 20: 1.0, 23: 1.0, 26: 1.0, 29: 1.0, 32: 1.0, 35: 1.0, 37: 1.0, 41: 0.0132})"
            ]
          },
          "metadata": {},
          "execution_count": 198
        }
      ]
    },
    {
      "cell_type": "code",
      "source": [
        "transformed_df1 = transformed_df.select(\"y\", \"feature\")"
      ],
      "metadata": {
        "id": "fEHOdev_7RLi"
      },
      "execution_count": 155,
      "outputs": []
    },
    {
      "cell_type": "code",
      "source": [
        "transformed_df1.show(5)"
      ],
      "metadata": {
        "colab": {
          "base_uri": "https://localhost:8080/"
        },
        "id": "ttkB5a3y7e2t",
        "outputId": "db53c840-0a3e-4579-cbac-886728f712f3"
      },
      "execution_count": 156,
      "outputs": [
        {
          "output_type": "stream",
          "name": "stdout",
          "text": [
            "+---+--------------------+\n",
            "|  y|             feature|\n",
            "+---+--------------------+\n",
            "|0.0|(43,[1,3,4,7,10,1...|\n",
            "|0.0|(43,[0,2,4,6,8,12...|\n",
            "|1.0|(43,[0,2,4,6,8,12...|\n",
            "|0.0|(43,[0,2,4,7,10,1...|\n",
            "|1.0|(43,[1,2,4,6,8,11...|\n",
            "+---+--------------------+\n",
            "only showing top 5 rows\n",
            "\n"
          ]
        }
      ]
    },
    {
      "cell_type": "markdown",
      "source": [
        "#Se crea conjunto de entrenamiento y prueba"
      ],
      "metadata": {
        "id": "MVfVI6P4Dr6s"
      }
    },
    {
      "cell_type": "code",
      "source": [
        "train_data, test_data = transformed_df1.randomSplit( [0.8, 0.2], seed=42 )"
      ],
      "metadata": {
        "id": "zb34iK8n7g4s"
      },
      "execution_count": 157,
      "outputs": []
    },
    {
      "cell_type": "code",
      "source": [
        "train_data.show(5)"
      ],
      "metadata": {
        "colab": {
          "base_uri": "https://localhost:8080/"
        },
        "id": "b7MVGoZY8LAF",
        "outputId": "bc48e91f-b4e5-44eb-b61e-eea3f278a73a"
      },
      "execution_count": 158,
      "outputs": [
        {
          "output_type": "stream",
          "name": "stdout",
          "text": [
            "+---+--------------------+\n",
            "|  y|             feature|\n",
            "+---+--------------------+\n",
            "|0.0|(43,[0,2,4,6,8,11...|\n",
            "|0.0|(43,[0,2,4,6,8,11...|\n",
            "|0.0|(43,[0,2,4,6,8,11...|\n",
            "|0.0|(43,[0,2,4,6,8,11...|\n",
            "|0.0|(43,[0,2,4,6,8,11...|\n",
            "+---+--------------------+\n",
            "only showing top 5 rows\n",
            "\n"
          ]
        }
      ]
    },
    {
      "cell_type": "code",
      "source": [
        "train_data.groupby(\"y\").count().show()"
      ],
      "metadata": {
        "colab": {
          "base_uri": "https://localhost:8080/"
        },
        "id": "-P03ZqS29oZk",
        "outputId": "0fc36c05-5f08-4002-8d0b-aac5e9040380"
      },
      "execution_count": 159,
      "outputs": [
        {
          "output_type": "stream",
          "name": "stdout",
          "text": [
            "+---+-----+\n",
            "|  y|count|\n",
            "+---+-----+\n",
            "|0.0| 4173|\n",
            "|1.0| 1525|\n",
            "+---+-----+\n",
            "\n"
          ]
        }
      ]
    },
    {
      "cell_type": "markdown",
      "source": [
        "#Se crean los modelos"
      ],
      "metadata": {
        "id": "YvsKWyeB8cep"
      }
    },
    {
      "cell_type": "markdown",
      "source": [
        "##LogisticRegression"
      ],
      "metadata": {
        "id": "0Cjk4sF--_P-"
      }
    },
    {
      "cell_type": "code",
      "source": [
        "from pyspark.ml.classification import LogisticRegression"
      ],
      "metadata": {
        "id": "K-YqYnka_A2_"
      },
      "execution_count": 160,
      "outputs": []
    },
    {
      "cell_type": "code",
      "source": [
        "lr1 = LogisticRegression(featuresCol=\"feature\", labelCol=\"y\")"
      ],
      "metadata": {
        "id": "oc1Dr8y__BT7"
      },
      "execution_count": 161,
      "outputs": []
    },
    {
      "cell_type": "code",
      "source": [
        "lr1_model = lr1.fit(train_data)"
      ],
      "metadata": {
        "id": "ScP637Wt_Kxl"
      },
      "execution_count": 162,
      "outputs": []
    },
    {
      "cell_type": "code",
      "source": [
        "predictions1 = lr1_model.transform(test_data)"
      ],
      "metadata": {
        "id": "raNSyFZz_OI8"
      },
      "execution_count": 163,
      "outputs": []
    },
    {
      "cell_type": "code",
      "source": [
        "predictions1.columns"
      ],
      "metadata": {
        "colab": {
          "base_uri": "https://localhost:8080/"
        },
        "id": "gtFVGVMI_ZpL",
        "outputId": "93b54008-d65d-4156-ec23-a5eee2c06a71"
      },
      "execution_count": null,
      "outputs": [
        {
          "output_type": "execute_result",
          "data": {
            "text/plain": [
              "['y', 'feature', 'rawPrediction', 'probability', 'prediction']"
            ]
          },
          "metadata": {},
          "execution_count": 120
        }
      ]
    },
    {
      "cell_type": "code",
      "source": [
        "predictions1.show()"
      ],
      "metadata": {
        "colab": {
          "base_uri": "https://localhost:8080/"
        },
        "id": "a7ohjLzC_tsq",
        "outputId": "db015bb5-1745-41e9-fe00-0794302cceb3"
      },
      "execution_count": null,
      "outputs": [
        {
          "output_type": "stream",
          "name": "stdout",
          "text": [
            "+---+--------------------+--------------------+--------------------+----------+\n",
            "|  y|             feature|       rawPrediction|         probability|prediction|\n",
            "+---+--------------------+--------------------+--------------------+----------+\n",
            "|0.0|(44,[0,2,4,6,8,11...|[-0.9717161408300...|[0.27453857112491...|       1.0|\n",
            "|0.0|(44,[0,2,4,6,8,11...|[-0.8679743664188...|[0.29567596895311...|       1.0|\n",
            "|0.0|(44,[0,2,4,6,8,11...|[-0.7673239757400...|[0.31705826813431...|       1.0|\n",
            "|0.0|(44,[0,2,4,6,8,11...|[-0.5158523523915...|[0.37382260276464...|       1.0|\n",
            "|0.0|(44,[0,2,4,6,8,11...|[-0.4617051920081...|[0.38658138295697...|       1.0|\n",
            "|0.0|(44,[0,2,4,6,8,11...|[-0.5340278543585...|[0.36957794591529...|       1.0|\n",
            "|0.0|(44,[0,2,4,6,8,11...|[0.11999097860788...|[0.52996180451574...|       0.0|\n",
            "|0.0|(44,[0,2,4,6,8,11...|[1.29153985423277...|[0.78440771144043...|       0.0|\n",
            "|0.0|(44,[0,2,4,6,8,11...|[-1.0693901062472...|[0.25551908640138...|       1.0|\n",
            "|0.0|(44,[0,2,4,6,8,11...|[-0.9587971219407...|[0.27711909572903...|       1.0|\n",
            "|0.0|(44,[0,2,4,6,8,11...|[-0.6597024803450...|[0.34080644837855...|       1.0|\n",
            "|0.0|(44,[0,2,4,6,8,11...|[-0.2667266636901...|[0.43371087013193...|       1.0|\n",
            "|0.0|(44,[0,2,4,6,8,11...|[-1.2961108629915...|[0.21482027994548...|       1.0|\n",
            "|0.0|(44,[0,2,4,6,8,11...|[0.03545961137846...|[0.50886397407911...|       0.0|\n",
            "|0.0|(44,[0,2,4,6,8,11...|[-0.2240228390780...|[0.44422734697366...|       1.0|\n",
            "|0.0|(44,[0,2,4,6,8,11...|[-0.7681068020439...|[0.31688878521700...|       1.0|\n",
            "|0.0|(44,[0,2,4,6,8,11...|[-0.2186458392381...|[0.44555526632774...|       1.0|\n",
            "|0.0|(44,[0,2,4,6,8,11...|[-0.7734698326454...|[0.31572899019940...|       1.0|\n",
            "|0.0|(44,[0,2,4,6,8,11...|[1.30982038671260...|[0.78748309852302...|       0.0|\n",
            "|0.0|(44,[0,2,4,6,8,11...|[2.84028186582006...|[0.94481416064585...|       0.0|\n",
            "+---+--------------------+--------------------+--------------------+----------+\n",
            "only showing top 20 rows\n",
            "\n"
          ]
        }
      ]
    },
    {
      "cell_type": "markdown",
      "source": [
        "##Evaluación del modelo"
      ],
      "metadata": {
        "id": "zNz0P7wwor83"
      }
    },
    {
      "cell_type": "code",
      "source": [
        "from pyspark.ml.evaluation import BinaryClassificationEvaluator"
      ],
      "metadata": {
        "id": "P77Th1dlnClu"
      },
      "execution_count": 164,
      "outputs": []
    },
    {
      "cell_type": "code",
      "source": [
        "evaluator = BinaryClassificationEvaluator()"
      ],
      "metadata": {
        "id": "9oSidvaqnFGD"
      },
      "execution_count": 165,
      "outputs": []
    },
    {
      "cell_type": "code",
      "source": [
        "evaluator.setLabelCol(\"y\")"
      ],
      "metadata": {
        "colab": {
          "base_uri": "https://localhost:8080/"
        },
        "id": "ssRFFOy4nHqz",
        "outputId": "95b95097-4432-4c19-97f5-c1d95fa2d1f0"
      },
      "execution_count": 166,
      "outputs": [
        {
          "output_type": "execute_result",
          "data": {
            "text/plain": [
              "BinaryClassificationEvaluator_fbede42bab2e"
            ]
          },
          "metadata": {},
          "execution_count": 166
        }
      ]
    },
    {
      "cell_type": "code",
      "source": [
        "from pyspark.ml.evaluation import MulticlassClassificationEvaluator"
      ],
      "metadata": {
        "id": "B1JiWZN9nKsa"
      },
      "execution_count": 167,
      "outputs": []
    },
    {
      "cell_type": "code",
      "source": [
        "evaluator2 = MulticlassClassificationEvaluator(labelCol=\"y\", predictionCol=\"prediction\", metricName= \"accuracy\")"
      ],
      "metadata": {
        "id": "Vxyu3yjqnPqh"
      },
      "execution_count": 168,
      "outputs": []
    },
    {
      "cell_type": "code",
      "source": [
        "evaluator2.evaluate(predictions1)"
      ],
      "metadata": {
        "colab": {
          "base_uri": "https://localhost:8080/"
        },
        "id": "ZEeuiU8If7a3",
        "outputId": "5bf86a92-d7b9-483d-a297-59a374c1f473"
      },
      "execution_count": 169,
      "outputs": [
        {
          "output_type": "execute_result",
          "data": {
            "text/plain": [
              "0.7940520446096654"
            ]
          },
          "metadata": {},
          "execution_count": 169
        }
      ]
    },
    {
      "cell_type": "markdown",
      "source": [
        "##RandomForestClassifier"
      ],
      "metadata": {
        "id": "FprTwwiP_8Yd"
      }
    },
    {
      "cell_type": "code",
      "source": [
        "from pyspark.ml.classification import RandomForestClassifier"
      ],
      "metadata": {
        "id": "EvKGgo5c_nUm"
      },
      "execution_count": 170,
      "outputs": []
    },
    {
      "cell_type": "code",
      "source": [
        "lr2 = RandomForestClassifier(featuresCol=\"feature\", labelCol=\"y\", )#, rawPredictionCol= \"raw\",predictionCol= \"prediction\" )"
      ],
      "metadata": {
        "id": "Z4_wxCuPABs-"
      },
      "execution_count": 171,
      "outputs": []
    },
    {
      "cell_type": "code",
      "source": [
        "lr2_model = lr2.fit(train_data)"
      ],
      "metadata": {
        "id": "2Fjkl1xcAEim"
      },
      "execution_count": 172,
      "outputs": []
    },
    {
      "cell_type": "code",
      "source": [
        "predictions2 = lr2_model.transform(test_data)"
      ],
      "metadata": {
        "id": "kiDfJ1-3AHBA"
      },
      "execution_count": 173,
      "outputs": []
    },
    {
      "cell_type": "code",
      "source": [
        "predictions2.show()"
      ],
      "metadata": {
        "colab": {
          "base_uri": "https://localhost:8080/"
        },
        "id": "iXOlkIksAJPj",
        "outputId": "d47a848c-29be-44e1-fdfb-329c4b907027"
      },
      "execution_count": null,
      "outputs": [
        {
          "output_type": "stream",
          "name": "stdout",
          "text": [
            "+---+--------------------+--------------------+--------------------+----------+\n",
            "|  y|             feature|       rawPrediction|         probability|prediction|\n",
            "+---+--------------------+--------------------+--------------------+----------+\n",
            "|0.0|(44,[0,2,4,6,8,11...|[6.11564931116921...|[0.30578246555846...|       1.0|\n",
            "|0.0|(44,[0,2,4,6,8,11...|[6.75644283516287...|[0.33782214175814...|       1.0|\n",
            "|0.0|(44,[0,2,4,6,8,11...|[7.19616340355999...|[0.35980817017799...|       1.0|\n",
            "|0.0|(44,[0,2,4,6,8,11...|[7.20983438311703...|[0.36049171915585...|       1.0|\n",
            "|0.0|(44,[0,2,4,6,8,11...|[6.59063152415933...|[0.32953157620796...|       1.0|\n",
            "|0.0|(44,[0,2,4,6,8,11...|[6.95107673154553...|[0.34755383657727...|       1.0|\n",
            "|0.0|(44,[0,2,4,6,8,11...|[9.46020348493736...|[0.47301017424686...|       1.0|\n",
            "|0.0|(44,[0,2,4,6,8,11...|[13.3535186604608...|[0.66767593302304...|       0.0|\n",
            "|0.0|(44,[0,2,4,6,8,11...|[6.33742152520947...|[0.31687107626047...|       1.0|\n",
            "|0.0|(44,[0,2,4,6,8,11...|[6.93842738957397...|[0.34692136947869...|       1.0|\n",
            "|0.0|(44,[0,2,4,6,8,11...|[7.98157378911685...|[0.39907868945584...|       1.0|\n",
            "|0.0|(44,[0,2,4,6,8,11...|[12.2050481037282...|[0.61025240518641...|       0.0|\n",
            "|0.0|(44,[0,2,4,6,8,11...|[5.95888940440931...|[0.29794447022046...|       1.0|\n",
            "|0.0|(44,[0,2,4,6,8,11...|[11.9192583631733...|[0.59596291815866...|       0.0|\n",
            "|0.0|(44,[0,2,4,6,8,11...|[9.62645227952716...|[0.48132261397635...|       1.0|\n",
            "|0.0|(44,[0,2,4,6,8,11...|[7.82715055263011...|[0.39135752763150...|       1.0|\n",
            "|0.0|(44,[0,2,4,6,8,11...|[7.12858979075016...|[0.35642948953750...|       1.0|\n",
            "|0.0|(44,[0,2,4,6,8,11...|[7.34346954392878...|[0.36717347719643...|       1.0|\n",
            "|0.0|(44,[0,2,4,6,8,11...|[16.5856063920495...|[0.82928031960247...|       0.0|\n",
            "|0.0|(44,[0,2,4,6,8,11...|[16.6437313878505...|[0.83218656939252...|       0.0|\n",
            "+---+--------------------+--------------------+--------------------+----------+\n",
            "only showing top 20 rows\n",
            "\n"
          ]
        }
      ]
    },
    {
      "cell_type": "markdown",
      "source": [
        "###Evaluacion"
      ],
      "metadata": {
        "id": "L_2HT6q8g4fI"
      }
    },
    {
      "cell_type": "code",
      "source": [
        "from pyspark.ml.evaluation import BinaryClassificationEvaluator"
      ],
      "metadata": {
        "id": "g-GNU1ROAPl1"
      },
      "execution_count": 174,
      "outputs": []
    },
    {
      "cell_type": "code",
      "source": [
        "evaluator = BinaryClassificationEvaluator()"
      ],
      "metadata": {
        "id": "lpMXxltRGTvX"
      },
      "execution_count": 175,
      "outputs": []
    },
    {
      "cell_type": "code",
      "source": [
        "evaluator.setLabelCol(\"y\")"
      ],
      "metadata": {
        "colab": {
          "base_uri": "https://localhost:8080/"
        },
        "id": "NQtuauAxTtOu",
        "outputId": "a0c790a1-82b5-447a-901b-868e6d895ff2"
      },
      "execution_count": 176,
      "outputs": [
        {
          "output_type": "execute_result",
          "data": {
            "text/plain": [
              "BinaryClassificationEvaluator_183043f0e8f2"
            ]
          },
          "metadata": {},
          "execution_count": 176
        }
      ]
    },
    {
      "cell_type": "code",
      "source": [
        "evaluator.getLabelCol()"
      ],
      "metadata": {
        "colab": {
          "base_uri": "https://localhost:8080/",
          "height": 35
        },
        "id": "eokKHdkVTquz",
        "outputId": "a281c8ff-0831-46bd-f911-87d6acea0e64"
      },
      "execution_count": null,
      "outputs": [
        {
          "output_type": "execute_result",
          "data": {
            "text/plain": [
              "'y'"
            ],
            "application/vnd.google.colaboratory.intrinsic+json": {
              "type": "string"
            }
          },
          "metadata": {},
          "execution_count": 49
        }
      ]
    },
    {
      "cell_type": "code",
      "source": [
        "evaluator.evaluate(predictions2)"
      ],
      "metadata": {
        "colab": {
          "base_uri": "https://localhost:8080/"
        },
        "id": "aRtTSux4TaEx",
        "outputId": "0725e8dd-5861-406b-e1d5-5aaf93faf3d4"
      },
      "execution_count": 177,
      "outputs": [
        {
          "output_type": "execute_result",
          "data": {
            "text/plain": [
              "0.8107139953070183"
            ]
          },
          "metadata": {},
          "execution_count": 177
        }
      ]
    },
    {
      "cell_type": "code",
      "source": [
        "evaluator.getMetricName()"
      ],
      "metadata": {
        "colab": {
          "base_uri": "https://localhost:8080/",
          "height": 35
        },
        "id": "o8DM5g46UPe3",
        "outputId": "757d207a-5325-4bfb-8116-6b6bed05d934"
      },
      "execution_count": 178,
      "outputs": [
        {
          "output_type": "execute_result",
          "data": {
            "text/plain": [
              "'areaUnderROC'"
            ],
            "application/vnd.google.colaboratory.intrinsic+json": {
              "type": "string"
            }
          },
          "metadata": {},
          "execution_count": 178
        }
      ]
    },
    {
      "cell_type": "code",
      "source": [
        "evaluator.evaluate(predictions2, {evaluator.metricName: \"areaUnderPR\"})"
      ],
      "metadata": {
        "colab": {
          "base_uri": "https://localhost:8080/"
        },
        "id": "a6qdFghmUGFy",
        "outputId": "e7597f36-25dd-4322-a7cb-09126c86a689"
      },
      "execution_count": 179,
      "outputs": [
        {
          "output_type": "execute_result",
          "data": {
            "text/plain": [
              "0.5729175718263634"
            ]
          },
          "metadata": {},
          "execution_count": 179
        }
      ]
    },
    {
      "cell_type": "code",
      "source": [
        "from pyspark.ml.evaluation import MulticlassClassificationEvaluator"
      ],
      "metadata": {
        "id": "G6DyqGSIGHPk"
      },
      "execution_count": 180,
      "outputs": []
    },
    {
      "cell_type": "code",
      "source": [
        "evaluator2 = MulticlassClassificationEvaluator(labelCol=\"y\", predictionCol=\"prediction\", metricName= \"accuracy\")"
      ],
      "metadata": {
        "id": "B8DDJwrgXIdX"
      },
      "execution_count": 181,
      "outputs": []
    },
    {
      "cell_type": "code",
      "source": [
        "evaluator2.setMetricName(\"accuracy\")"
      ],
      "metadata": {
        "colab": {
          "base_uri": "https://localhost:8080/"
        },
        "id": "SWk7Uk5ZXqUp",
        "outputId": "ef74efd5-07ff-48a2-9395-2166fd40b5ed"
      },
      "execution_count": 182,
      "outputs": [
        {
          "output_type": "execute_result",
          "data": {
            "text/plain": [
              "MulticlassClassificationEvaluator_26f8de1b5b10"
            ]
          },
          "metadata": {},
          "execution_count": 182
        }
      ]
    },
    {
      "cell_type": "code",
      "source": [
        "evaluator2.getMetricName()"
      ],
      "metadata": {
        "colab": {
          "base_uri": "https://localhost:8080/",
          "height": 35
        },
        "id": "vZ2XBPLHXORQ",
        "outputId": "bdc5f75c-5a47-4cdc-ae94-5b574be2cd44"
      },
      "execution_count": null,
      "outputs": [
        {
          "output_type": "execute_result",
          "data": {
            "text/plain": [
              "'accuracy'"
            ],
            "application/vnd.google.colaboratory.intrinsic+json": {
              "type": "string"
            }
          },
          "metadata": {},
          "execution_count": 98
        }
      ]
    },
    {
      "cell_type": "code",
      "source": [
        "evaluator2.metricName"
      ],
      "metadata": {
        "colab": {
          "base_uri": "https://localhost:8080/"
        },
        "id": "M8tHl_FxYI2v",
        "outputId": "251e5470-4635-4128-c8ce-6f26b81d545d"
      },
      "execution_count": null,
      "outputs": [
        {
          "output_type": "execute_result",
          "data": {
            "text/plain": [
              "Param(parent='MulticlassClassificationEvaluator_2cbbf156e16d', name='metricName', doc='metric name in evaluation (f1|accuracy|weightedPrecision|weightedRecall|weightedTruePositiveRate| weightedFalsePositiveRate|weightedFMeasure|truePositiveRateByLabel| falsePositiveRateByLabel|precisionByLabel|recallByLabel|fMeasureByLabel| logLoss|hammingLoss)')"
            ]
          },
          "metadata": {},
          "execution_count": 87
        }
      ]
    },
    {
      "cell_type": "code",
      "source": [
        "evaluator2.evaluate(predictions2)"
      ],
      "metadata": {
        "colab": {
          "base_uri": "https://localhost:8080/"
        },
        "id": "w4Y_1WPfXT_R",
        "outputId": "3e2197a2-ddb1-45a9-a457-7514cba10055"
      },
      "execution_count": 183,
      "outputs": [
        {
          "output_type": "execute_result",
          "data": {
            "text/plain": [
              "0.7762081784386617"
            ]
          },
          "metadata": {},
          "execution_count": 183
        }
      ]
    },
    {
      "cell_type": "markdown",
      "source": [
        "###Características más importantes"
      ],
      "metadata": {
        "id": "afoBo0lj_D3x"
      }
    },
    {
      "cell_type": "code",
      "source": [
        "feature_importances = [round(i, 3) for i in lr2_model.featureImportances]"
      ],
      "metadata": {
        "id": "OCquhmNF_V8n"
      },
      "execution_count": 297,
      "outputs": []
    },
    {
      "cell_type": "code",
      "source": [
        "feature_importance_tuples = list(zip(nombres_caracteristicas, feature_importances))"
      ],
      "metadata": {
        "id": "jgzJMz6v198M"
      },
      "execution_count": 298,
      "outputs": []
    },
    {
      "cell_type": "code",
      "source": [
        "sorted_feature_importance = sorted(feature_importance_tuples, key=lambda x: x[1], reverse=True)"
      ],
      "metadata": {
        "id": "pBFapHtY2IRG"
      },
      "execution_count": 299,
      "outputs": []
    },
    {
      "cell_type": "markdown",
      "source": [
        "10 características más importantes"
      ],
      "metadata": {
        "id": "dIjLQ2ziBkV3"
      }
    },
    {
      "cell_type": "code",
      "source": [
        "sorted_feature_importance[0:10]"
      ],
      "metadata": {
        "colab": {
          "base_uri": "https://localhost:8080/"
        },
        "id": "abexwggs2QhY",
        "outputId": "c4466808-6907-4049-f398-9cd0740497f4"
      },
      "execution_count": 301,
      "outputs": [
        {
          "output_type": "execute_result",
          "data": {
            "text/plain": [
              "[('Contract_Month-to-month', 0.195),\n",
              " ('OnlineSecurity_No', 0.128),\n",
              " ('TechSupport_No', 0.114),\n",
              " ('Clean_total_Charges', 0.092),\n",
              " ('TechSupport_Yes', 0.061),\n",
              " ('InternetService_Fiber optic', 0.059),\n",
              " ('OnlineBackup_No', 0.051),\n",
              " ('OnlineSecurity_Yes', 0.038),\n",
              " ('DeviceProtection_No', 0.036),\n",
              " ('PaymentMethod_Electronic check', 0.036)]"
            ]
          },
          "metadata": {},
          "execution_count": 301
        }
      ]
    },
    {
      "cell_type": "markdown",
      "source": [
        "10 características menos importantes"
      ],
      "metadata": {
        "id": "vUP-opZNBnx6"
      }
    },
    {
      "cell_type": "code",
      "source": [
        "sorted_feature_importance[-10:]"
      ],
      "metadata": {
        "colab": {
          "base_uri": "https://localhost:8080/"
        },
        "id": "Ki8bNSQG-3yq",
        "outputId": "c5c1a377-2456-4ce0-a976-cdadaccca904"
      },
      "execution_count": 302,
      "outputs": [
        {
          "output_type": "execute_result",
          "data": {
            "text/plain": [
              "[('Dependents_Yes', 0.0),\n",
              " ('PhoneService_Yes', 0.0),\n",
              " ('MultipleLines_No', 0.0),\n",
              " ('OnlineSecurity_No internet service', 0.0),\n",
              " ('DeviceProtection_Yes', 0.0),\n",
              " ('DeviceProtection_No internet service', 0.0),\n",
              " ('TechSupport_No internet service', 0.0),\n",
              " ('StreamingTV_No', 0.0),\n",
              " ('StreamingTV_Yes', 0.0),\n",
              " ('StreamingMovies_Yes', 0.0)]"
            ]
          },
          "metadata": {},
          "execution_count": 302
        }
      ]
    },
    {
      "cell_type": "markdown",
      "source": [
        "###CrossValidator"
      ],
      "metadata": {
        "id": "e1P-MLjag7YO"
      }
    },
    {
      "cell_type": "code",
      "source": [
        "from pyspark.ml.tuning import CrossValidator, ParamGridBuilder"
      ],
      "metadata": {
        "id": "VHEWT28IhBMh"
      },
      "execution_count": null,
      "outputs": []
    },
    {
      "cell_type": "code",
      "source": [
        "param_grid = ParamGridBuilder().build()"
      ],
      "metadata": {
        "id": "5Wj_dpfqhDzw"
      },
      "execution_count": null,
      "outputs": []
    },
    {
      "cell_type": "code",
      "source": [
        "# Configurar la validación cruzada con 3 folds\n",
        "cross_validator = CrossValidator(\n",
        "    estimator=lr2,\n",
        "    estimatorParamMaps=param_grid,\n",
        "    evaluator=evaluator2,\n",
        "    numFolds=6,\n",
        "    seed=42\n",
        ")"
      ],
      "metadata": {
        "id": "P1v6ljUFg9SI"
      },
      "execution_count": null,
      "outputs": []
    },
    {
      "cell_type": "code",
      "source": [
        "# Entrenar el modelo con validación cruzada\n",
        "cv_model = cross_validator.fit(train_data)"
      ],
      "metadata": {
        "id": "k59G7uXthVV6"
      },
      "execution_count": null,
      "outputs": []
    },
    {
      "cell_type": "code",
      "source": [
        "# Hacer predicciones en el conjunto de prueba\n",
        "predictionscv = cv_model.transform(test_data)"
      ],
      "metadata": {
        "id": "gDAeDiMMhYS0"
      },
      "execution_count": null,
      "outputs": []
    },
    {
      "cell_type": "code",
      "source": [
        "cv_model.bestModel"
      ],
      "metadata": {
        "colab": {
          "base_uri": "https://localhost:8080/"
        },
        "id": "o6ZbQggvmbol",
        "outputId": "38af67e2-a9c1-4e65-c336-ce3b5fc4b833"
      },
      "execution_count": null,
      "outputs": [
        {
          "output_type": "execute_result",
          "data": {
            "text/plain": [
              "RandomForestClassificationModel: uid=RandomForestClassifier_89d7357f08e9, numTrees=20, numClasses=2, numFeatures=44"
            ]
          },
          "metadata": {},
          "execution_count": 177
        }
      ]
    },
    {
      "cell_type": "code",
      "source": [
        "cv_model.avgMetrics"
      ],
      "metadata": {
        "colab": {
          "base_uri": "https://localhost:8080/"
        },
        "id": "yw7GzTEgiHs8",
        "outputId": "c259645c-c5a8-4dda-a0b9-40fec67c23a6"
      },
      "execution_count": null,
      "outputs": [
        {
          "output_type": "execute_result",
          "data": {
            "text/plain": [
              "[0.7911206570368979]"
            ]
          },
          "metadata": {},
          "execution_count": 178
        }
      ]
    },
    {
      "cell_type": "code",
      "source": [
        "accuracy_on_test = evaluator2.evaluate(predictionscv)\n",
        "print(f\"Accuracy on test data: {accuracy_on_test}\")"
      ],
      "metadata": {
        "colab": {
          "base_uri": "https://localhost:8080/"
        },
        "id": "4sXk8eIXkpOI",
        "outputId": "e9a0d36a-0ac6-483e-905c-a3339a5f8c1a"
      },
      "execution_count": null,
      "outputs": [
        {
          "output_type": "stream",
          "name": "stdout",
          "text": [
            "Accuracy on test data: 0.7836431226765799\n"
          ]
        }
      ]
    },
    {
      "cell_type": "markdown",
      "source": [
        "###Confusion matrix"
      ],
      "metadata": {
        "id": "c5tmxO2tod-k"
      }
    },
    {
      "cell_type": "code",
      "source": [
        "predictionscv.show(5)"
      ],
      "metadata": {
        "colab": {
          "base_uri": "https://localhost:8080/"
        },
        "id": "PJ-zJMSuokbv",
        "outputId": "44bb61f5-199f-45d8-87c0-d5032f7c1e84"
      },
      "execution_count": null,
      "outputs": [
        {
          "output_type": "stream",
          "name": "stdout",
          "text": [
            "+---+--------------------+--------------------+--------------------+----------+\n",
            "|  y|             feature|       rawPrediction|         probability|prediction|\n",
            "+---+--------------------+--------------------+--------------------+----------+\n",
            "|0.0|(44,[0,2,4,6,8,11...|[6.11564931116921...|[0.30578246555846...|       1.0|\n",
            "|0.0|(44,[0,2,4,6,8,11...|[6.75644283516287...|[0.33782214175814...|       1.0|\n",
            "|0.0|(44,[0,2,4,6,8,11...|[7.19616340355999...|[0.35980817017799...|       1.0|\n",
            "|0.0|(44,[0,2,4,6,8,11...|[7.20983438311703...|[0.36049171915585...|       1.0|\n",
            "|0.0|(44,[0,2,4,6,8,11...|[6.59063152415933...|[0.32953157620796...|       1.0|\n",
            "+---+--------------------+--------------------+--------------------+----------+\n",
            "only showing top 5 rows\n",
            "\n"
          ]
        }
      ]
    },
    {
      "cell_type": "code",
      "source": [
        "predictions2.show(5)"
      ],
      "metadata": {
        "colab": {
          "base_uri": "https://localhost:8080/"
        },
        "id": "p629VGsKojGl",
        "outputId": "1da5a9fc-bf8f-4a17-95d3-9f48622e8e97"
      },
      "execution_count": null,
      "outputs": [
        {
          "output_type": "stream",
          "name": "stdout",
          "text": [
            "+---+--------------------+--------------------+--------------------+----------+\n",
            "|  y|             feature|       rawPrediction|         probability|prediction|\n",
            "+---+--------------------+--------------------+--------------------+----------+\n",
            "|0.0|(44,[0,2,4,6,8,11...|[6.11564931116921...|[0.30578246555846...|       1.0|\n",
            "|0.0|(44,[0,2,4,6,8,11...|[6.75644283516287...|[0.33782214175814...|       1.0|\n",
            "|0.0|(44,[0,2,4,6,8,11...|[7.19616340355999...|[0.35980817017799...|       1.0|\n",
            "|0.0|(44,[0,2,4,6,8,11...|[7.20983438311703...|[0.36049171915585...|       1.0|\n",
            "|0.0|(44,[0,2,4,6,8,11...|[6.59063152415933...|[0.32953157620796...|       1.0|\n",
            "+---+--------------------+--------------------+--------------------+----------+\n",
            "only showing top 5 rows\n",
            "\n"
          ]
        }
      ]
    },
    {
      "cell_type": "code",
      "source": [
        "prediction_and_label = predictions2.select(\"prediction\", \"y\").rdd.map(lambda row: (float(row[\"prediction\"]), float(row[\"y\"])))"
      ],
      "metadata": {
        "id": "iBTo6p3vodxE"
      },
      "execution_count": null,
      "outputs": []
    },
    {
      "cell_type": "code",
      "source": [
        "from pyspark.mllib.evaluation import MulticlassMetrics"
      ],
      "metadata": {
        "id": "HJaDdEKWoy-_"
      },
      "execution_count": null,
      "outputs": []
    },
    {
      "cell_type": "code",
      "source": [
        "metrics10 = MulticlassMetrics(prediction_and_label)"
      ],
      "metadata": {
        "id": "RxDPICmhor9F"
      },
      "execution_count": null,
      "outputs": []
    },
    {
      "cell_type": "code",
      "source": [
        "confusion_matrix = metrics10.confusionMatrix().toArray()\n",
        "\n",
        "# Mostrar la matriz de confusión\n",
        "print(\"Confusion Matrix:\")\n",
        "print(confusion_matrix)"
      ],
      "metadata": {
        "colab": {
          "base_uri": "https://localhost:8080/"
        },
        "id": "C7OKdh3gowE6",
        "outputId": "e5ee408e-15f2-4d89-c184-df0f6318046e"
      },
      "execution_count": null,
      "outputs": [
        {
          "output_type": "stream",
          "name": "stdout",
          "text": [
            "Confusion Matrix:\n",
            "[[929.  72.]\n",
            " [219. 125.]]\n"
          ]
        }
      ]
    },
    {
      "cell_type": "code",
      "source": [
        "confusion_matrix_df = sns.heatmap(confusion_matrix, annot=True, fmt=\".0f\", cmap=\"Blues\", cbar=True)\n",
        "confusion_matrix_df.set_xlabel(\"Predicted\")\n",
        "confusion_matrix_df.set_ylabel(\"True\")\n",
        "plt.show()"
      ],
      "metadata": {
        "colab": {
          "base_uri": "https://localhost:8080/",
          "height": 449
        },
        "id": "XcY_G716o7GT",
        "outputId": "7fcd974e-05d4-47a0-a80b-bb77ed506941"
      },
      "execution_count": null,
      "outputs": [
        {
          "output_type": "display_data",
          "data": {
            "text/plain": [
              "<Figure size 640x480 with 2 Axes>"
            ],
            "image/png": "[encoded data removed]"
          },
          "metadata": {}
        }
      ]
    },
    {
      "cell_type": "markdown",
      "source": [
        "##XGBClassifier"
      ],
      "metadata": {
        "id": "nJTycSWKFOLH"
      }
    },
    {
      "cell_type": "code",
      "source": [
        "from xgboost.spark import SparkXGBClassifier"
      ],
      "metadata": {
        "id": "PR-6nRiTDFDO"
      },
      "execution_count": null,
      "outputs": []
    },
    {
      "cell_type": "code",
      "source": [
        "xgb_clf = SparkXGBClassifier( features_col = \"feature\", label_col = \"y\")"
      ],
      "metadata": {
        "id": "CMyh-e4pDX1M"
      },
      "execution_count": null,
      "outputs": []
    },
    {
      "cell_type": "code",
      "source": [
        "classifier_model = xgb_clf.fit(train_data)"
      ],
      "metadata": {
        "colab": {
          "base_uri": "https://localhost:8080/"
        },
        "id": "pj7HsjDSESCN",
        "outputId": "f37375bc-5d89-401b-e89f-cf2c2ac0ba72"
      },
      "execution_count": null,
      "outputs": [
        {
          "output_type": "stream",
          "name": "stderr",
          "text": [
            "INFO:XGBoost-PySpark:Running xgboost-2.0.2 on 1 workers with\n",
            "\tbooster params: {'objective': 'binary:logistic', 'device': 'cpu', 'nthread': 1}\n",
            "\ttrain_call_kwargs_params: {'verbose_eval': True, 'num_boost_round': 100}\n",
            "\tdmatrix_kwargs: {'nthread': 1, 'missing': nan}\n",
            "INFO:XGBoost-PySpark:Finished xgboost training!\n"
          ]
        }
      ]
    },
    {
      "cell_type": "code",
      "source": [
        "Predict_Data = classifier_model.transform(test_data)\n",
        "Predict_Data.show()"
      ],
      "metadata": {
        "colab": {
          "base_uri": "https://localhost:8080/"
        },
        "id": "qwwtwCRpEhzt",
        "outputId": "76a98435-72f3-43f0-c9eb-0ecfd41bc58d"
      },
      "execution_count": null,
      "outputs": [
        {
          "output_type": "stream",
          "name": "stdout",
          "text": [
            "+---+--------------------+--------------------+----------+--------------------+\n",
            "|  y|             feature|       rawPrediction|prediction|         probability|\n",
            "+---+--------------------+--------------------+----------+--------------------+\n",
            "|0.0|(44,[0,2,4,6,8,11...|[-1.7060563564300...|       1.0|[0.15367591381072...|\n",
            "|0.0|(44,[0,2,4,6,8,11...|[-0.1665168255567...|       1.0|[0.45846670866012...|\n",
            "|0.0|(44,[0,2,4,6,8,11...|[0.81151133775711...|       0.0|[0.69243144989013...|\n",
            "|0.0|(44,[0,2,4,6,8,11...|[0.49399530887603...|       0.0|[0.62104713916778...|\n",
            "|0.0|(44,[0,2,4,6,8,11...|[-0.5289208292961...|       1.0|[0.37076860666275...|\n",
            "|0.0|(44,[0,2,4,6,8,11...|[-0.3213997781276...|       1.0|[0.42033463716506...|\n",
            "|0.0|(44,[0,2,4,6,8,11...|[0.79149353504180...|       0.0|[0.68815195560455...|\n",
            "|0.0|(44,[0,2,4,6,8,11...|[2.21035933494567...|       0.0|[0.90117591619491...|\n",
            "|0.0|(44,[0,2,4,6,8,11...|[-2.8853044509887...|       1.0|[0.05288475751876...|\n",
            "|0.0|(44,[0,2,4,6,8,11...|[-2.4700138568878...|       1.0|[0.07798719406127...|\n",
            "|0.0|(44,[0,2,4,6,8,11...|[-1.3124418258666...|       1.0|[0.21207851171493...|\n",
            "|0.0|(44,[0,2,4,6,8,11...|[-0.8701686859130...|       1.0|[0.29521924257278...|\n",
            "|0.0|(44,[0,2,4,6,8,11...|[-2.5009634494781...|       1.0|[0.07579070329666...|\n",
            "|0.0|(44,[0,2,4,6,8,11...|[1.54336810111999...|       0.0|[0.82395380735397...|\n",
            "|0.0|(44,[0,2,4,6,8,11...|[0.49001735448837...|       0.0|[0.62011051177978...|\n",
            "|0.0|(44,[0,2,4,6,8,11...|[-1.0921696424484...|       1.0|[0.25120997428894...|\n",
            "|0.0|(44,[0,2,4,6,8,11...|[0.72226643562316...|       0.0|[0.67310589551925...|\n",
            "|0.0|(44,[0,2,4,6,8,11...|[-1.5050753355026...|       1.0|[0.18166977167129...|\n",
            "|0.0|(44,[0,2,4,6,8,11...|[3.87104272842407...|       0.0|[0.97958868741989...|\n",
            "|0.0|(44,[0,2,4,6,8,11...|[2.28171062469482...|       0.0|[0.90735095739364...|\n",
            "+---+--------------------+--------------------+----------+--------------------+\n",
            "only showing top 20 rows\n",
            "\n"
          ]
        }
      ]
    },
    {
      "cell_type": "markdown",
      "source": [
        "##Evaluación del modelo"
      ],
      "metadata": {
        "id": "NjsW7m7jn9mn"
      }
    },
    {
      "cell_type": "code",
      "source": [
        "evaluator2.evaluate(Predict_Data)"
      ],
      "metadata": {
        "colab": {
          "base_uri": "https://localhost:8080/"
        },
        "id": "YW9hKiJAEnyR",
        "outputId": "510a636c-2c07-4dcf-f3e2-36b6461e3577"
      },
      "execution_count": null,
      "outputs": [
        {
          "output_type": "execute_result",
          "data": {
            "text/plain": [
              "0.79182156133829"
            ]
          },
          "metadata": {},
          "execution_count": 102
        }
      ]
    },
    {
      "cell_type": "code",
      "source": [
        "from pyspark.ml.tuning import CrossValidator"
      ],
      "metadata": {
        "id": "U-IrG_ZqFUY5"
      },
      "execution_count": null,
      "outputs": []
    },
    {
      "cell_type": "code",
      "source": [
        "cv = CrossValidator(estimator=xgb_clf, estimatorParamMaps=param_grid, evaluator=evaluator2,\n",
        "        numFolds=6,\n",
        "    seed=42)"
      ],
      "metadata": {
        "id": "P1kswt0XapNR"
      },
      "execution_count": null,
      "outputs": []
    },
    {
      "cell_type": "code",
      "source": [
        "cvModel = cv.fit(train_data)"
      ],
      "metadata": {
        "colab": {
          "base_uri": "https://localhost:8080/"
        },
        "id": "uvGncItja5OX",
        "outputId": "c4316928-874a-4581-a7c2-a09b072c6975"
      },
      "execution_count": null,
      "outputs": [
        {
          "output_type": "stream",
          "name": "stderr",
          "text": [
            "INFO:XGBoost-PySpark:Running xgboost-2.0.2 on 1 workers with\n",
            "\tbooster params: {'device': 'cpu', 'objective': 'binary:logistic', 'nthread': 1}\n",
            "\ttrain_call_kwargs_params: {'verbose_eval': True, 'num_boost_round': 100}\n",
            "\tdmatrix_kwargs: {'nthread': 1, 'missing': nan}\n",
            "INFO:XGBoost-PySpark:Finished xgboost training!\n",
            "INFO:XGBoost-PySpark:Running xgboost-2.0.2 on 1 workers with\n",
            "\tbooster params: {'device': 'cpu', 'objective': 'binary:logistic', 'nthread': 1}\n",
            "\ttrain_call_kwargs_params: {'verbose_eval': True, 'num_boost_round': 100}\n",
            "\tdmatrix_kwargs: {'nthread': 1, 'missing': nan}\n",
            "INFO:XGBoost-PySpark:Finished xgboost training!\n",
            "INFO:XGBoost-PySpark:Running xgboost-2.0.2 on 1 workers with\n",
            "\tbooster params: {'device': 'cpu', 'objective': 'binary:logistic', 'nthread': 1}\n",
            "\ttrain_call_kwargs_params: {'verbose_eval': True, 'num_boost_round': 100}\n",
            "\tdmatrix_kwargs: {'nthread': 1, 'missing': nan}\n",
            "INFO:XGBoost-PySpark:Finished xgboost training!\n",
            "INFO:XGBoost-PySpark:Running xgboost-2.0.2 on 1 workers with\n",
            "\tbooster params: {'device': 'cpu', 'objective': 'binary:logistic', 'nthread': 1}\n",
            "\ttrain_call_kwargs_params: {'verbose_eval': True, 'num_boost_round': 100}\n",
            "\tdmatrix_kwargs: {'nthread': 1, 'missing': nan}\n",
            "INFO:XGBoost-PySpark:Finished xgboost training!\n",
            "INFO:XGBoost-PySpark:Running xgboost-2.0.2 on 1 workers with\n",
            "\tbooster params: {'device': 'cpu', 'objective': 'binary:logistic', 'nthread': 1}\n",
            "\ttrain_call_kwargs_params: {'verbose_eval': True, 'num_boost_round': 100}\n",
            "\tdmatrix_kwargs: {'nthread': 1, 'missing': nan}\n",
            "INFO:XGBoost-PySpark:Finished xgboost training!\n",
            "INFO:XGBoost-PySpark:Running xgboost-2.0.2 on 1 workers with\n",
            "\tbooster params: {'device': 'cpu', 'objective': 'binary:logistic', 'nthread': 1}\n",
            "\ttrain_call_kwargs_params: {'verbose_eval': True, 'num_boost_round': 100}\n",
            "\tdmatrix_kwargs: {'nthread': 1, 'missing': nan}\n",
            "INFO:XGBoost-PySpark:Finished xgboost training!\n",
            "INFO:XGBoost-PySpark:Running xgboost-2.0.2 on 1 workers with\n",
            "\tbooster params: {'objective': 'binary:logistic', 'device': 'cpu', 'nthread': 1}\n",
            "\ttrain_call_kwargs_params: {'verbose_eval': True, 'num_boost_round': 100}\n",
            "\tdmatrix_kwargs: {'nthread': 1, 'missing': nan}\n",
            "INFO:XGBoost-PySpark:Finished xgboost training!\n"
          ]
        }
      ]
    },
    {
      "cell_type": "code",
      "source": [
        "cvModel.avgMetrics"
      ],
      "metadata": {
        "id": "26kSqe4Sa9x0",
        "colab": {
          "base_uri": "https://localhost:8080/"
        },
        "outputId": "cc3904d7-51ee-412c-b381-8845a2272152"
      },
      "execution_count": null,
      "outputs": [
        {
          "output_type": "execute_result",
          "data": {
            "text/plain": [
              "[0.7774703363962151]"
            ]
          },
          "metadata": {},
          "execution_count": 114
        }
      ]
    }
  ]
}